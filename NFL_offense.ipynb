{
 "cells": [
  {
   "cell_type": "markdown",
   "metadata": {},
   "source": [
    "# OVERVIEW\n",
    "In the National Football League, coaches employ a variety of guiding philosophies that they believe are superior, proven pathways to consistent success. These days, much attention has been directed at the explosive offenses of the Los Angeles Rams and the Kansas City Chiefs, two teams who score very quickly while also surrendering a lot of points on defense. Some pundits and NFL veterans argue that this is the future of the league.\n",
    "\n",
    "However, one approach that is getting overlooked is the maximization of \"offensive efficiency.\" For this analysis, we'll define \"offensive efficiency\" as:\n",
    "\n",
    "> <i>\"Scoring the most points possible while prolonging possession of the ball in order to limit the opponent's possession of the ball.\"</i>\n",
    "\n",
    "Teams that are highly offensive efficient therefore demonstrate the following traits:\n",
    "\n",
    "- More plays per drive (offensive possession)\n",
    "- More yards per drive\n",
    "- Longer time of possession\n",
    "- And obviously, more points per drive\n",
    "\n",
    "Unlike the Chiefs, who often score touchdowns on a few large-yardage plays per drive, the 2018 New Orleans Saints rarely registered explosive plays that resulted in 40+ yards gained. Most of their plays were for short and intermediate yard gains that sustained drives that ultimately ended in a score. We'll explore the relationship beteen this approach and success.\n",
    "\n",
    "### Comfortable Lead and Offensive Efficiency\n",
    "We'll also look at how playoff-worthy teams perform once they've established a comfortable lead of 20+ points. Once a team establishes a comfortable lead, the team is expected to employ a strategy of \"draining the clock\" by calling more plays that are likely to prevent a play clock stoppage at the conclusion of the play. This is thus time for the leading team to demonstrate greater <i>offensive efficiency</i>.\n",
    "\n",
    "By draining the clock and \"slowing down the game\", the team with the comfortable lead:\n",
    "\n",
    "- Sustains longer offensive drives\n",
    "- Makes the trailing team's defense tired, as the unit is on the field longer\n",
    "- Limits the time the trailing team can play on offense\n",
    "- Allows its defense to rest remain and 'fresh' for when it must take the field\n",
    "\n",
    "Let's first read in our data."
   ]
  },
  {
   "cell_type": "code",
   "execution_count": 1,
   "metadata": {},
   "outputs": [],
   "source": [
    "import pandas as pd\n",
    "import numpy as np\n",
    "\n",
    "data = pd.read_csv('NFL Play by Play 2009-2018 (v5).csv', low_memory=False)"
   ]
  },
  {
   "cell_type": "markdown",
   "metadata": {},
   "source": [
    "### Preliminary Feature Drop\n",
    "\n",
    "Having read in our data and looking at the dataframe, we can immediately identify several features that serve no purpose for our analysis. Any feature pertaining to \"expected points\" or \"probability\" is a predictor of victory, additional points, additional yards gained, etc. using calculation methods we do not know. As we do not know how these were calculated, they are not useful and can thus be dropped."
   ]
  },
  {
   "cell_type": "code",
   "execution_count": 2,
   "metadata": {},
   "outputs": [],
   "source": [
    "columns_to_drop = ['no_score_prob', 'opp_fg_prob', 'opp_safety_prob', 'opp_td_prob', 'fg_prob', 'safety_prob', 'td_prob', \n",
    "                   'extra_point_prob', 'two_point_conversion_prob', 'ep', 'epa', 'total_home_epa', 'total_away_epa',\n",
    "                   'total_home_rush_epa', 'total_away_rush_epa', 'total_home_pass_epa', 'total_away_pass_epa', 'air_epa',\n",
    "                   'yac_epa', 'comp_air_epa', 'comp_yac_epa', 'total_home_comp_air_epa','total_away_comp_air_epa',\n",
    "                   'total_home_comp_yac_epa', 'total_away_comp_yac_epa', 'total_home_raw_air_epa',\n",
    "                   'total_away_raw_air_epa','total_home_raw_yac_epa', 'total_away_raw_yac_epa', 'wp', 'def_wp',\n",
    "                   'home_wp', 'away_wp', 'wpa', 'home_wp_post', 'away_wp_post','total_home_rush_wpa', \n",
    "                   'total_away_rush_wpa', 'total_home_pass_wpa', 'total_away_pass_wpa','air_wpa', 'yac_wpa',\n",
    "                   'comp_air_wpa','comp_yac_wpa', 'total_home_comp_air_wpa', 'total_away_comp_air_wpa',\n",
    "                   'total_home_comp_yac_wpa', 'total_away_comp_yac_wpa', 'total_home_raw_air_wpa', 'total_away_raw_air_wpa',\n",
    "                   'total_home_raw_yac_wpa', 'total_away_raw_yac_wpa']\n",
    "\n",
    "data = data.drop(columns_to_drop, axis=1)"
   ]
  },
  {
   "cell_type": "markdown",
   "metadata": {},
   "source": [
    "We can also delete other features that pertain to specify individual players' involvement in plays (e.g. who recovered a fumble). As we're investigating the relationship between maintaining a comfortable lead and victory, these features are not pertinent. They can also be dropped."
   ]
  },
  {
   "cell_type": "code",
   "execution_count": 3,
   "metadata": {},
   "outputs": [],
   "source": [
    "drop = ['defteam','side_of_field','yardline_100','quarter_seconds_remaining','half_seconds_remaining',\n",
    " 'quarter_end', 'sp', 'goal_to_go', 'time','yrdln','ydstogo','ydsnet','shotgun',\n",
    " 'no_huddle','qb_dropback','qb_kneel','qb_spike','qb_scramble','pass_length','pass_location','air_yards','yards_after_catch',\n",
    " 'run_location','run_gap','field_goal_result','kick_distance','extra_point_result',\n",
    " 'two_point_conv_result','home_timeouts_remaining','away_timeouts_remaining','timeout_team','td_team',\n",
    " 'posteam_timeouts_remaining','defteam_timeouts_remaining','punt_blocked','first_down_rush','first_down_pass',\n",
    " 'first_down_penalty','third_down_failed','fourth_down_failed','punt_inside_twenty','punt_in_endzone','punt_out_of_bounds',\n",
    " 'punt_downed','punt_fair_catch','kickoff_inside_twenty','kickoff_in_endzone','kickoff_out_of_bounds','kickoff_downed',\n",
    " 'kickoff_fair_catch','fumble_forced','fumble_not_forced','fumble_out_of_bounds','solo_tackle','safety','tackled_for_loss',\n",
    " 'fumble_lost','own_kickoff_recovery','own_kickoff_recovery_td','qb_hit','rush_attempt','pass_attempt','sack',\n",
    " 'touchdown','pass_touchdown','rush_touchdown','return_touchdown','extra_point_attempt','two_point_attempt',\n",
    " 'field_goal_attempt','kickoff_attempt','punt_attempt','fumble','complete_pass','assist_tackle','lateral_reception',\n",
    " 'lateral_rush','lateral_return','lateral_recovery','passer_player_id','passer_player_name','receiver_player_id',\n",
    " 'receiver_player_name','rusher_player_id','rusher_player_name','lateral_receiver_player_id','lateral_receiver_player_name',\n",
    " 'lateral_rusher_player_id','lateral_rusher_player_name','lateral_sack_player_id','lateral_sack_player_name',\n",
    " 'interception_player_id','interception_player_name','lateral_interception_player_id','lateral_interception_player_name',\n",
    " 'punt_returner_player_id','punt_returner_player_name','lateral_punt_returner_player_id','lateral_punt_returner_player_name',\n",
    " 'kickoff_returner_player_name','kickoff_returner_player_id','lateral_kickoff_returner_player_id',\n",
    " 'lateral_kickoff_returner_player_name','punter_player_id','punter_player_name','kicker_player_name','kicker_player_id',\n",
    " 'own_kickoff_recovery_player_id','own_kickoff_recovery_player_name','blocked_player_id','blocked_player_name',\n",
    " 'tackle_for_loss_1_player_id','tackle_for_loss_1_player_name','tackle_for_loss_2_player_id','tackle_for_loss_2_player_name',\n",
    " 'qb_hit_1_player_id','qb_hit_1_player_name','qb_hit_2_player_id','qb_hit_2_player_name','forced_fumble_player_1_team',\n",
    " 'forced_fumble_player_1_player_id','forced_fumble_player_1_player_name','forced_fumble_player_2_team',\n",
    " 'forced_fumble_player_2_player_id','forced_fumble_player_2_player_name','solo_tackle_1_team','solo_tackle_2_team',\n",
    " 'solo_tackle_1_player_id','solo_tackle_2_player_id','solo_tackle_1_player_name','solo_tackle_2_player_name',\n",
    " 'assist_tackle_1_player_id','assist_tackle_1_player_name','assist_tackle_1_team','assist_tackle_2_player_id',\n",
    " 'assist_tackle_2_player_name','assist_tackle_2_team','assist_tackle_3_player_id','assist_tackle_3_player_name',\n",
    " 'assist_tackle_3_team','assist_tackle_4_player_id','assist_tackle_4_player_name','assist_tackle_4_team',\n",
    " 'pass_defense_1_player_id','pass_defense_1_player_name','pass_defense_2_player_id','pass_defense_2_player_name',\n",
    " 'fumbled_1_team','fumbled_1_player_id','fumbled_1_player_name','fumbled_2_player_id','fumbled_2_player_name',\n",
    " 'fumbled_2_team','fumble_recovery_1_team','fumble_recovery_1_yards','fumble_recovery_1_player_id',\n",
    " 'fumble_recovery_1_player_name','fumble_recovery_2_team','fumble_recovery_2_yards','fumble_recovery_2_player_id',\n",
    " 'fumble_recovery_2_player_name','return_team','return_yards','replay_or_challenge',\n",
    " 'defensive_two_point_attempt','defensive_two_point_conv','defensive_extra_point_attempt','defensive_extra_point_conv']\n",
    "\n",
    "data = data.drop(drop, axis=1)"
   ]
  },
  {
   "cell_type": "markdown",
   "metadata": {},
   "source": [
    "# DATA EXPLORATION\n",
    "Now, let's see how many games this dataset covers in order to get an idea of how representative this dataset is."
   ]
  },
  {
   "cell_type": "code",
   "execution_count": 4,
   "metadata": {},
   "outputs": [
    {
     "data": {
      "text/plain": [
       "(2104, 35)"
      ]
     },
     "execution_count": 4,
     "metadata": {},
     "output_type": "execute_result"
    }
   ],
   "source": [
    "end_of_game = data[data['desc'] == 'END GAME']\n",
    "end_of_game.shape"
   ]
  },
  {
   "cell_type": "markdown",
   "metadata": {},
   "source": [
    "From a cursory look at the dataset, it appears that 'END GAME' in the 'desc' column is a reliable indicator of a game end. However, running end_of_game.shape shows that only 2104 games contain the 'END GAME' value. With 32 NFL teams each playing 16 games in a regular season, 256 games across all teams are played in a regular season. 2104/256 = ~8.2 seasons, suggesting that 'END GAME' does not capture all the game results."
   ]
  },
  {
   "cell_type": "code",
   "execution_count": 5,
   "metadata": {},
   "outputs": [
    {
     "data": {
      "text/plain": [
       "(2526, 35)"
      ]
     },
     "execution_count": 5,
     "metadata": {},
     "output_type": "execute_result"
    }
   ],
   "source": [
    "end_of_game = data.sort_values('play_id').groupby('game_id').tail(1)\n",
    "end_of_game.shape"
   ]
  },
  {
   "cell_type": "markdown",
   "metadata": {},
   "source": [
    "We can see that this approach yields 2,526 games. Looking at the tail, it seems the last game captured in this data set is the Monday Night Football contest featuring the New Orlean Saints at the Carolina Panthers on December 17, 2018. This was the final game played in Week 15, meaning there were 32 games left to be played in the 2018 season (16 each in Weeks 16 and 17).\n",
    "\n",
    "2,560 (10 complete seasons) - 2,526 = 34. This suggests that the dataset is missing 2 games. As this is a negligible amount, we can proceed with our analysis using nearly a decade's worth of data."
   ]
  },
  {
   "cell_type": "markdown",
   "metadata": {},
   "source": [
    "# FEATURE ENGINEERING\n",
    "\n",
    "To more fully test our hypothesis, we need to create several new features that are currently not captured in the dataset. We'd like to know the following for each team on a cumulative (not per-play) basis:\n",
    "\n",
    "- The number of run plays called\n",
    "- The number of pass plays called\n",
    "- The number of \"chunk yardage\" plays (plays that result in yardage gains of 10 to 25 yards)\n",
    "- Time of possession"
   ]
  },
  {
   "cell_type": "markdown",
   "metadata": {},
   "source": [
    "### Yardage Clean-up\n",
    "The first feature we should investigate is the yardage accrued on each play. This can be explored int he `yards_gained` column. Let's see how many null values there are."
   ]
  },
  {
   "cell_type": "code",
   "execution_count": 6,
   "metadata": {},
   "outputs": [
    {
     "name": "stdout",
     "output_type": "stream",
     "text": [
      "213\n",
      "449371\n"
     ]
    }
   ],
   "source": [
    "print(data['yards_gained'].isnull().sum())\n",
    "print(len(data))"
   ]
  },
  {
   "cell_type": "markdown",
   "metadata": {},
   "source": [
    "213 of the ~450K rows have null values for `yards_gained`. While this may seem negligible, as we are exploring the relationship between offensive efficiency and victory, it's crucial that we assign these their proper values.\n",
    "\n",
    "Looking at the `desc` column, we can see that yardage gain/loss is indicated. We can therefore extract yardage from this column. Let's use a regular expression to pull this. Each `desc` string contains numerous numbers referring to time, yards, penalty yards, and other figures. So it's important to first pull all \"# yard(s)\" references specifically before converting them to numeric values."
   ]
  },
  {
   "cell_type": "code",
   "execution_count": 7,
   "metadata": {},
   "outputs": [
    {
     "data": {
      "text/plain": [
       "0      67 yards\n",
       "1       5 yards\n",
       "2      -3 yards\n",
       "3           NaN\n",
       "4      54 yards\n",
       "5           NaN\n",
       "6       4 yards\n",
       "7      -2 yards\n",
       "8      50 yards\n",
       "9       3 yards\n",
       "10     10 yards\n",
       "11     -1 yards\n",
       "12      9 yards\n",
       "13    -19 yards\n",
       "14     30 yards\n",
       "15     32 yards\n",
       "16     20 yards\n",
       "17      3 yards\n",
       "18          NaN\n",
       "19          NaN\n",
       "Name: desc_yards, dtype: object"
      ]
     },
     "execution_count": 7,
     "metadata": {},
     "output_type": "execute_result"
    }
   ],
   "source": [
    "import re\n",
    "data['desc_yards'] = data['desc'].str.extract('(-?\\d+\\syards?)')\n",
    "data['desc_yards'].head(20)"
   ]
  },
  {
   "cell_type": "markdown",
   "metadata": {},
   "source": [
    "Let's investigate the null views in the newly created `desc_yards` column."
   ]
  },
  {
   "cell_type": "code",
   "execution_count": 8,
   "metadata": {},
   "outputs": [
    {
     "name": "stdout",
     "output_type": "stream",
     "text": [
      "(13:35) (Shotgun) B.Roethlisberger pass incomplete deep right to M.Wallace. COVERAGE BY #24 HOPE\n",
      "(13:16) C.Johnson up the middle to TEN 2 for no gain (B.Keisel, J.Farrior).\n",
      "(6:57) K.Collins pass incomplete short right to A.Crumpler. Coverage by #56 Woodley, #22 Gay.\n",
      "(6:52) (Shotgun) K.Collins pass incomplete short right to B.Scaife (T.Polamalu).\n"
     ]
    }
   ],
   "source": [
    "print(data.loc[3,'desc'])\n",
    "print(data.loc[5,'desc'])\n",
    "print(data.loc[18,'desc'])\n",
    "print(data.loc[19,'desc'])"
   ]
  },
  {
   "cell_type": "markdown",
   "metadata": {},
   "source": [
    "Null values in the `desc_yards` column can rightly be converted to zero yards. We'll do that later in the analysis after some more exploration. First, let's create a column that pulls the numeric yardage value from `desc_yards`."
   ]
  },
  {
   "cell_type": "code",
   "execution_count": 9,
   "metadata": {},
   "outputs": [
    {
     "data": {
      "text/html": [
       "<div>\n",
       "<style scoped>\n",
       "    .dataframe tbody tr th:only-of-type {\n",
       "        vertical-align: middle;\n",
       "    }\n",
       "\n",
       "    .dataframe tbody tr th {\n",
       "        vertical-align: top;\n",
       "    }\n",
       "\n",
       "    .dataframe thead th {\n",
       "        text-align: right;\n",
       "    }\n",
       "</style>\n",
       "<table border=\"1\" class=\"dataframe\">\n",
       "  <thead>\n",
       "    <tr style=\"text-align: right;\">\n",
       "      <th></th>\n",
       "      <th>play_id</th>\n",
       "      <th>game_id</th>\n",
       "      <th>home_team</th>\n",
       "      <th>away_team</th>\n",
       "      <th>posteam</th>\n",
       "      <th>posteam_type</th>\n",
       "      <th>game_date</th>\n",
       "      <th>game_seconds_remaining</th>\n",
       "      <th>game_half</th>\n",
       "      <th>drive</th>\n",
       "      <th>...</th>\n",
       "      <th>interception</th>\n",
       "      <th>penalty</th>\n",
       "      <th>penalty_team</th>\n",
       "      <th>penalty_player_id</th>\n",
       "      <th>penalty_player_name</th>\n",
       "      <th>penalty_yards</th>\n",
       "      <th>replay_or_challenge_result</th>\n",
       "      <th>penalty_type</th>\n",
       "      <th>desc_yards</th>\n",
       "      <th>yards_clean</th>\n",
       "    </tr>\n",
       "  </thead>\n",
       "  <tbody>\n",
       "    <tr>\n",
       "      <th>449185</th>\n",
       "      <td>4369</td>\n",
       "      <td>2018121611</td>\n",
       "      <td>LA</td>\n",
       "      <td>PHI</td>\n",
       "      <td>PHI</td>\n",
       "      <td>away</td>\n",
       "      <td>2018-12-16</td>\n",
       "      <td>183.0</td>\n",
       "      <td>Half2</td>\n",
       "      <td>22</td>\n",
       "      <td>...</td>\n",
       "      <td>0.0</td>\n",
       "      <td>0.0</td>\n",
       "      <td>NaN</td>\n",
       "      <td>NaN</td>\n",
       "      <td>NaN</td>\n",
       "      <td>NaN</td>\n",
       "      <td>NaN</td>\n",
       "      <td>NaN</td>\n",
       "      <td>52 yards</td>\n",
       "      <td>52.0</td>\n",
       "    </tr>\n",
       "    <tr>\n",
       "      <th>449220</th>\n",
       "      <td>449</td>\n",
       "      <td>2018121700</td>\n",
       "      <td>CAR</td>\n",
       "      <td>NO</td>\n",
       "      <td>CAR</td>\n",
       "      <td>home</td>\n",
       "      <td>2018-12-17</td>\n",
       "      <td>3146.0</td>\n",
       "      <td>Half1</td>\n",
       "      <td>3</td>\n",
       "      <td>...</td>\n",
       "      <td>0.0</td>\n",
       "      <td>0.0</td>\n",
       "      <td>NaN</td>\n",
       "      <td>NaN</td>\n",
       "      <td>NaN</td>\n",
       "      <td>NaN</td>\n",
       "      <td>NaN</td>\n",
       "      <td>NaN</td>\n",
       "      <td>NaN</td>\n",
       "      <td>NaN</td>\n",
       "    </tr>\n",
       "    <tr>\n",
       "      <th>449293</th>\n",
       "      <td>2210</td>\n",
       "      <td>2018121700</td>\n",
       "      <td>CAR</td>\n",
       "      <td>NO</td>\n",
       "      <td>NO</td>\n",
       "      <td>away</td>\n",
       "      <td>2018-12-17</td>\n",
       "      <td>1712.0</td>\n",
       "      <td>Half2</td>\n",
       "      <td>13</td>\n",
       "      <td>...</td>\n",
       "      <td>0.0</td>\n",
       "      <td>0.0</td>\n",
       "      <td>NaN</td>\n",
       "      <td>NaN</td>\n",
       "      <td>NaN</td>\n",
       "      <td>NaN</td>\n",
       "      <td>NaN</td>\n",
       "      <td>NaN</td>\n",
       "      <td>NaN</td>\n",
       "      <td>NaN</td>\n",
       "    </tr>\n",
       "    <tr>\n",
       "      <th>449303</th>\n",
       "      <td>2490</td>\n",
       "      <td>2018121700</td>\n",
       "      <td>CAR</td>\n",
       "      <td>NO</td>\n",
       "      <td>NO</td>\n",
       "      <td>away</td>\n",
       "      <td>2018-12-17</td>\n",
       "      <td>1563.0</td>\n",
       "      <td>Half2</td>\n",
       "      <td>15</td>\n",
       "      <td>...</td>\n",
       "      <td>0.0</td>\n",
       "      <td>0.0</td>\n",
       "      <td>NaN</td>\n",
       "      <td>NaN</td>\n",
       "      <td>NaN</td>\n",
       "      <td>NaN</td>\n",
       "      <td>NaN</td>\n",
       "      <td>NaN</td>\n",
       "      <td>NaN</td>\n",
       "      <td>NaN</td>\n",
       "    </tr>\n",
       "    <tr>\n",
       "      <th>449318</th>\n",
       "      <td>2861</td>\n",
       "      <td>2018121700</td>\n",
       "      <td>CAR</td>\n",
       "      <td>NO</td>\n",
       "      <td>CAR</td>\n",
       "      <td>home</td>\n",
       "      <td>2018-12-17</td>\n",
       "      <td>1115.0</td>\n",
       "      <td>Half2</td>\n",
       "      <td>16</td>\n",
       "      <td>...</td>\n",
       "      <td>0.0</td>\n",
       "      <td>0.0</td>\n",
       "      <td>NaN</td>\n",
       "      <td>NaN</td>\n",
       "      <td>NaN</td>\n",
       "      <td>NaN</td>\n",
       "      <td>NaN</td>\n",
       "      <td>NaN</td>\n",
       "      <td>22 yards</td>\n",
       "      <td>22.0</td>\n",
       "    </tr>\n",
       "  </tbody>\n",
       "</table>\n",
       "<p>5 rows × 37 columns</p>\n",
       "</div>"
      ],
      "text/plain": [
       "        play_id     game_id home_team away_team posteam posteam_type  \\\n",
       "449185     4369  2018121611        LA       PHI     PHI         away   \n",
       "449220      449  2018121700       CAR        NO     CAR         home   \n",
       "449293     2210  2018121700       CAR        NO      NO         away   \n",
       "449303     2490  2018121700       CAR        NO      NO         away   \n",
       "449318     2861  2018121700       CAR        NO     CAR         home   \n",
       "\n",
       "         game_date  game_seconds_remaining game_half  drive     ...       \\\n",
       "449185  2018-12-16                   183.0     Half2     22     ...        \n",
       "449220  2018-12-17                  3146.0     Half1      3     ...        \n",
       "449293  2018-12-17                  1712.0     Half2     13     ...        \n",
       "449303  2018-12-17                  1563.0     Half2     15     ...        \n",
       "449318  2018-12-17                  1115.0     Half2     16     ...        \n",
       "\n",
       "        interception  penalty penalty_team penalty_player_id  \\\n",
       "449185           0.0      0.0          NaN               NaN   \n",
       "449220           0.0      0.0          NaN               NaN   \n",
       "449293           0.0      0.0          NaN               NaN   \n",
       "449303           0.0      0.0          NaN               NaN   \n",
       "449318           0.0      0.0          NaN               NaN   \n",
       "\n",
       "        penalty_player_name  penalty_yards  replay_or_challenge_result  \\\n",
       "449185                  NaN            NaN                         NaN   \n",
       "449220                  NaN            NaN                         NaN   \n",
       "449293                  NaN            NaN                         NaN   \n",
       "449303                  NaN            NaN                         NaN   \n",
       "449318                  NaN            NaN                         NaN   \n",
       "\n",
       "        penalty_type  desc_yards  yards_clean  \n",
       "449185           NaN    52 yards         52.0  \n",
       "449220           NaN         NaN          NaN  \n",
       "449293           NaN         NaN          NaN  \n",
       "449303           NaN         NaN          NaN  \n",
       "449318           NaN    22 yards         22.0  \n",
       "\n",
       "[5 rows x 37 columns]"
      ]
     },
     "execution_count": 9,
     "metadata": {},
     "output_type": "execute_result"
    }
   ],
   "source": [
    "data['yards_clean'] = data['desc_yards'].str.extract('(-?\\d+)').astype(float)\n",
    "no_gain = data[data['desc'].str.contains(\"no gain\", na=False)]\n",
    "no_gain.tail()"
   ]
  },
  {
   "cell_type": "code",
   "execution_count": 10,
   "metadata": {},
   "outputs": [
    {
     "name": "stdout",
     "output_type": "stream",
     "text": [
      "(3:35) D.Moore up the middle to NO 28 for 22 yards (V.Bell). FUMBLES (V.Bell), RECOVERED by NO-A.Klein at NO 16. A.Klein to NO 16 for no gain (C.Samuel).\n",
      "22.0\n"
     ]
    }
   ],
   "source": [
    "print(data.loc[449318,'desc'])\n",
    "print(data.loc[449318,'yards_clean'])"
   ]
  },
  {
   "cell_type": "markdown",
   "metadata": {},
   "source": [
    "Even for play descriptions containing the string \"no gain,\" `yards_clean` is working properly. In the play above, DJ Moore of the Carolina Panthers advanced the ball 22 yards before being tackled by Vonn Bell of the New Orleans Saints. Bell also forced Moore to fumble the ball, and the Saints recovered the ball on the same play. Despite turning the ball over, Carolina is still correctly credited with a 22-yard gain."
   ]
  },
  {
   "cell_type": "markdown",
   "metadata": {},
   "source": [
    "### Non-offensive Plays\n",
    "Let's investigate other play types that may be incorrectly yielding yardage gains. Any play involving a place kick or a punt likely has a `desc` string that references \"# yards\" that should not count toward a team's total offensive yards."
   ]
  },
  {
   "cell_type": "code",
   "execution_count": 11,
   "metadata": {},
   "outputs": [],
   "source": [
    "play_type_filters = ['punt', 'no_play', 'kickoff', 'extra_point', 'field_goal']\n",
    "\n",
    "for ptf in play_type_filters:\n",
    "    data.loc[data['play_type'] == ptf, 'yards_clean'] = 0"
   ]
  },
  {
   "cell_type": "markdown",
   "metadata": {},
   "source": [
    "### Incomplete Passes\n",
    "Let's look at incomplete passes."
   ]
  },
  {
   "cell_type": "code",
   "execution_count": 12,
   "metadata": {},
   "outputs": [
    {
     "data": {
      "text/html": [
       "<div>\n",
       "<style scoped>\n",
       "    .dataframe tbody tr th:only-of-type {\n",
       "        vertical-align: middle;\n",
       "    }\n",
       "\n",
       "    .dataframe tbody tr th {\n",
       "        vertical-align: top;\n",
       "    }\n",
       "\n",
       "    .dataframe thead th {\n",
       "        text-align: right;\n",
       "    }\n",
       "</style>\n",
       "<table border=\"1\" class=\"dataframe\">\n",
       "  <thead>\n",
       "    <tr style=\"text-align: right;\">\n",
       "      <th></th>\n",
       "      <th>game_id</th>\n",
       "      <th>desc</th>\n",
       "    </tr>\n",
       "  </thead>\n",
       "  <tbody>\n",
       "    <tr>\n",
       "      <th>488</th>\n",
       "      <td>2009091307</td>\n",
       "      <td>(2:19) M.Stafford pass short left to B.Johnson...</td>\n",
       "    </tr>\n",
       "    <tr>\n",
       "      <th>2634</th>\n",
       "      <td>2009091401</td>\n",
       "      <td>(:50) (Shotgun) J.Russell pass deep middle to ...</td>\n",
       "    </tr>\n",
       "    <tr>\n",
       "      <th>2761</th>\n",
       "      <td>2009092000</td>\n",
       "      <td>(7:42) (Shotgun) M.Ryan pass short middle to R...</td>\n",
       "    </tr>\n",
       "    <tr>\n",
       "      <th>2855</th>\n",
       "      <td>2009092000</td>\n",
       "      <td>(5:41) J.Delhomme pass short right to J.King t...</td>\n",
       "    </tr>\n",
       "    <tr>\n",
       "      <th>3729</th>\n",
       "      <td>2009092005</td>\n",
       "      <td>(8:38) M.Sanchez pass short right to C.Stuckey...</td>\n",
       "    </tr>\n",
       "    <tr>\n",
       "      <th>5330</th>\n",
       "      <td>2009092014</td>\n",
       "      <td>(:12) (Shotgun) T.Romo pass incomplete deep le...</td>\n",
       "    </tr>\n",
       "    <tr>\n",
       "      <th>5499</th>\n",
       "      <td>2009092100</td>\n",
       "      <td>(:14) (No Huddle, Shotgun) P.Manning pass shor...</td>\n",
       "    </tr>\n",
       "    <tr>\n",
       "      <th>7893</th>\n",
       "      <td>2009092712</td>\n",
       "      <td>(:05) (No Huddle, Shotgun) J.Russell pass deep...</td>\n",
       "    </tr>\n",
       "    <tr>\n",
       "      <th>8279</th>\n",
       "      <td>2009092800</td>\n",
       "      <td>(12:15) T.Romo pass incomplete short left to R...</td>\n",
       "    </tr>\n",
       "    <tr>\n",
       "      <th>8280</th>\n",
       "      <td>2009092800</td>\n",
       "      <td>(12:11) T.Romo pass incomplete short left to M...</td>\n",
       "    </tr>\n",
       "  </tbody>\n",
       "</table>\n",
       "</div>"
      ],
      "text/plain": [
       "         game_id                                               desc\n",
       "488   2009091307  (2:19) M.Stafford pass short left to B.Johnson...\n",
       "2634  2009091401  (:50) (Shotgun) J.Russell pass deep middle to ...\n",
       "2761  2009092000  (7:42) (Shotgun) M.Ryan pass short middle to R...\n",
       "2855  2009092000  (5:41) J.Delhomme pass short right to J.King t...\n",
       "3729  2009092005  (8:38) M.Sanchez pass short right to C.Stuckey...\n",
       "5330  2009092014  (:12) (Shotgun) T.Romo pass incomplete deep le...\n",
       "5499  2009092100  (:14) (No Huddle, Shotgun) P.Manning pass shor...\n",
       "7893  2009092712  (:05) (No Huddle, Shotgun) J.Russell pass deep...\n",
       "8279  2009092800  (12:15) T.Romo pass incomplete short left to R...\n",
       "8280  2009092800  (12:11) T.Romo pass incomplete short left to M..."
      ]
     },
     "execution_count": 12,
     "metadata": {},
     "output_type": "execute_result"
    }
   ],
   "source": [
    "data[(data['incomplete_pass'] == 1) & (data['yards_clean']>0)][['game_id','desc']].head(10)"
   ]
  },
  {
   "cell_type": "code",
   "execution_count": 13,
   "metadata": {},
   "outputs": [
    {
     "name": "stdout",
     "output_type": "stream",
     "text": [
      "(2:19) M.Stafford pass short left to B.Johnson ran ob at DET 46 for 11 yards. New Orleans challenged the pass completion ruling, and the play was REVERSED. M.Stafford pass incomplete short left to B.Johnson.\n",
      "(13:14) (Shotgun) J.Cutler pass incomplete short right to D.Hester [N.Eason]. PENALTY on CHI-J.Cutler, Intentional Grounding, 10 yards, enforced at CHI 37.\n"
     ]
    }
   ],
   "source": [
    "print(data.loc[488,'desc'])\n",
    "print(data.loc[5160,'desc'])"
   ]
  },
  {
   "cell_type": "markdown",
   "metadata": {},
   "source": [
    "Positive-yardage plays that are negated via successful challenges and penalties are incorrectly generating yardage gains in `yards_clean`, so let's clean those up. We'll handle the plays with penalties later, as this requires some nuance.\n",
    "\n",
    "### Plays Reversed by Successful Challenges\n",
    "We'll first address the plays that were reversed due to successful challenges. A swift solution here is simply to set `yards_clean` equal to `yards_gained`, which is a feature already included in the original dataset."
   ]
  },
  {
   "cell_type": "code",
   "execution_count": 14,
   "metadata": {},
   "outputs": [],
   "source": [
    "data.loc[data.replay_or_challenge_result=='reversed', 'yards_clean'] = data['yards_gained']"
   ]
  },
  {
   "cell_type": "markdown",
   "metadata": {},
   "source": [
    "### Interceptions\n",
    "Let's see if interceptions are producing similar results."
   ]
  },
  {
   "cell_type": "code",
   "execution_count": 15,
   "metadata": {
    "scrolled": true
   },
   "outputs": [
    {
     "name": "stdout",
     "output_type": "stream",
     "text": [
      "31     16.0\n",
      "34      NaN\n",
      "89     80.0\n",
      "272     NaN\n",
      "404    26.0\n",
      "Name: yards_clean, dtype: float64\n",
      "\n",
      "(1:51) K.Collins pass deep left intended for K.Britt INTERCEPTED by T.Polamalu at PIT 5. T.Polamalu to PIT 21 for 16 yards (A.Hall).\n",
      "(:01) (Shotgun) B.Roethlisberger pass deep middle intended for M.Wallace INTERCEPTED by C.Finnegan at TEN 0. C.Finnegan to PIT 20 for 80 yards (M.Starks; H.Miller).\n"
     ]
    }
   ],
   "source": [
    "print(data[data['interception'] == 1]['yards_clean'].head())\n",
    "print()\n",
    "print(data.loc[31,'desc'])\n",
    "print(data.loc[89,'desc'])"
   ]
  },
  {
   "cell_type": "markdown",
   "metadata": {},
   "source": [
    "The yardage gains on these interceptions are being credited to the team on offense, but they are actually referring to the yards accrued by the defender who intercepted the pass. We'll clean up these and the incomplete pass plays."
   ]
  },
  {
   "cell_type": "code",
   "execution_count": 16,
   "metadata": {},
   "outputs": [],
   "source": [
    "pass_plays = ['incomplete_pass','interception']\n",
    "\n",
    "for play in pass_plays:\n",
    "    data.loc[data[play] == 1, 'yards_clean'] = 0"
   ]
  },
  {
   "cell_type": "markdown",
   "metadata": {},
   "source": [
    "### Penalties\n",
    "There are many plays that yield yardage gains for `yards_clean`, but these gains are mitigated by penalties made by the offensive team. For example, a running back may advance the ball 5 yards, which would be captured in `yards_clean`. However, if an illegal shift is called on his team, those yards are negated. They will still register in `yards_clean`. Let's clean up this feature while taking penalties into account."
   ]
  },
  {
   "cell_type": "code",
   "execution_count": 17,
   "metadata": {},
   "outputs": [],
   "source": [
    "penalties = ['False Start', 'Defensive Pass Interference', 'Defensive Holding',\n",
    "             'Defensive Offside', 'Delay of Game', 'Illegal Block Above the Waist',\n",
    "             'Neutral Zone Infraction', 'Roughing the Passer', 'Illegal Use of Hands',\n",
    "             'Offensive Pass Interference', 'Illegal Contact', 'Encroachment', 'Illegal Formation',\n",
    "             'Intentional Grounding', 'Illegal Shift', 'Offside on Free Kick', 'Horse Collar Tackle',\n",
    "             'Ineligible Downfield Pass', 'Illegal Motion', 'Illegal Substitution', 'Chop Block',\n",
    "             'Ineligible Downfield Kick', 'Player Out of Bounds on Punt', 'Tripping',\n",
    "             'Running Into the Kicker', 'Illegal Forward Pass', 'Illegal Touch Kick',\n",
    "             'Illegal Touch Pass', 'Illegal Blindside Block', 'Fair Catch Interference', 'Low Block',\n",
    "             'Clipping', 'Roughing the Kicker', 'Disqualification', 'Offensive Offside',\n",
    "             'Interference with Opportunity to Catch', 'Defensive Too Many Men on Field', 'Leverage',\n",
    "             'Defensive Delay of Game', 'Illegal Crackback', 'Invalid Fair Catch Signal',\n",
    "             'Leaping', 'Illegal Wedge', 'Illegal Bat', 'Player Out of Bounds on Kick',\n",
    "             'Offensive Too Many Men on Field', 'Illegal Peelback', 'Kick Catch Interference',\n",
    "             'Illegal Receiver Pass', 'Illegal Kick', 'Short Free Kick', 'Kickoff Out of Bounds',\n",
    "             'Delay of Kickoff', 'Illegal Onside Kick', 'Illegal Cut', 'Illegally Kicking Ball',\n",
    "             'Illegal Procedure']\n",
    "\n",
    "for penalty in penalties:\n",
    "    data.loc[(data['penalty_team'] == data['posteam']) & \n",
    "             (data['penalty_type']==penalty), 'yards_clean'] = 0"
   ]
  },
  {
   "cell_type": "markdown",
   "metadata": {},
   "source": [
    "If the offensive team is called for holding and had accrued positive yardage on the same play, a 10-yard penalty is enforced at the \"spot of the foul.\" So if a running back advances the ball 5 yards and his teammate is called for holding, the team loses a 5 yards, net.\n",
    "\n",
    "If the offensive team is called for holding and did NOT accrue positive yardage on the same play, a 10-yard penalty is enforced at the line of scrimmage. So if a running back is tackled behind the line of scrimmage for a loss of 3 yards and his teammate is called for holding, the team loses 10 yards, net.\n",
    "\n",
    "Let's account for this, as well as the null values mentioned earlier."
   ]
  },
  {
   "cell_type": "code",
   "execution_count": 18,
   "metadata": {},
   "outputs": [],
   "source": [
    "data.loc[(data['penalty_team'] == data['posteam']) & (data['penalty_type']=='Offensive Holding') & \n",
    "         (data['yards_gained'] < 0), 'yards_clean'] = 0\n",
    "\n",
    "data.loc[data['yards_clean'].isnull(), 'yards_clean'] = 0"
   ]
  },
  {
   "cell_type": "markdown",
   "metadata": {},
   "source": [
    "### Team Name Changes\n",
    "\n",
    "Prior to the start of the 2017 season, the St Louis Rams returned to Los Angeles, while the San Diego Chargers relocated to Los Angeles. For consistency's sake, let's change `STL` to `LA`, and `SD` to `LAC`.\n",
    "\n",
    "The Jacksonville Jaguars are also inexplicably referred to in shorthand as both `JAC` and `JAX`. Let's make all of these values `JAX`."
   ]
  },
  {
   "cell_type": "code",
   "execution_count": 19,
   "metadata": {},
   "outputs": [],
   "source": [
    "# All columns in the dataframe that contain a team abbreviation.\n",
    "team_types = ['home_team', 'away_team', 'posteam', 'penalty_team']\n",
    "\n",
    "for tt in team_types:\n",
    "    data.loc[data[tt] == 'STL', tt] = 'LA'\n",
    "    data.loc[data[tt] == 'SD', tt] = 'LAC'\n",
    "    data.loc[data[tt] == 'JAC', tt] = 'JAX'"
   ]
  },
  {
   "cell_type": "markdown",
   "metadata": {},
   "source": [
    "### Timeouts\n",
    "\n",
    "For some reason, when a team calls a timeout, it is by default designated as the `posteam` (the team in possession of the ball), even if it is on defense. Let's fix this, as this occlude our efficiency analysis later."
   ]
  },
  {
   "cell_type": "code",
   "execution_count": 20,
   "metadata": {},
   "outputs": [],
   "source": [
    "# Eliminates all rows with a called timeout.\n",
    "data = data[data.timeout != 1]"
   ]
  },
  {
   "cell_type": "markdown",
   "metadata": {},
   "source": [
    "# FEATURE ENGINEERING\n",
    "\n",
    "Let's now create some functions that can convert the features in the `data` dataframe to features more relevant to our analysis.\n",
    "\n",
    "### Functions - Score, Plays"
   ]
  },
  {
   "cell_type": "code",
   "execution_count": 21,
   "metadata": {},
   "outputs": [],
   "source": [
    "data.rename(columns={'total_home_score' : 'home_score_total'}, inplace=True)\n",
    "data.rename(columns={'total_away_score' : 'away_score_total'}, inplace=True)\n",
    "\n",
    "# Creates final scores for each game. The final score is displayed for each game, regardless of the play.\n",
    "# For example, a game ending in a score of 27 to 10 will display these values in the row corresponding the opening kick-off,\n",
    "# which is the first play of the game.\n",
    "def process_score(df):\n",
    "    types = ['home','away']\n",
    "    for team in types:\n",
    "        df[team + '_score_final'] = df[team + '_score_total'].groupby(df['game_id']).transform('max')\n",
    "    df['score_diff'] = df[types[0] + '_score_total'] - df[types[1] + '_score_total']\n",
    "# A comfortable lead is a lead greater than or equal to 20 points.\n",
    "    df[types[0] + '_comfy_lead'] = np.where(df['score_diff']>= 20, 1, 0)\n",
    "    df[types[1] + '_comfy_lead'] = np.where(df['score_diff']<= -20, 1, 0)\n",
    "    return df\n",
    "\n",
    "# Creates a new binary column that counts pass plays with 1s and 0s.\n",
    "# Creates a new column that displays the final tally of pass plays for each game, regardless of the play.\n",
    "def process_pass(df):\n",
    "    types = ['home','away']\n",
    "    for team in types:\n",
    "        df[team + '_passes'] = np.where( ((df['posteam_type']==team) & (df['play_type']=='pass')), 1, 0)\n",
    "        df[team + '_passes_final'] = df[team + '_passes'].groupby(df['game_id']).transform('sum')\n",
    "    return df\n",
    "\n",
    "# Creates a new binary column that counts run plays with 1s and 0s.\n",
    "# Creates a new column that displays the final tally of run plays for each game, regardless of the play.\n",
    "def process_run(df):\n",
    "    types = ['home','away']\n",
    "    for team in types:\n",
    "        df[team + '_runs'] = np.where( (df['posteam_type']==team) & (df['play_type']=='run'), 1, 0)\n",
    "        df[team + '_runs_final'] = df[team + '_runs'].groupby(df['game_id']).transform('sum')\n",
    "    return df\n",
    "\n",
    "# Creates a new column that counts offensive yards accrued per play.\n",
    "# Creates a new column that displays the final tally of offensive yards for each game, regardless of the play.\n",
    "# Creates a new column that displays the final tally of offensive yards for each game, if/when the team had a comfy lead.\n",
    "# Creates a new column that displays the final tally of offensive yards for each game, when the team did NOT have a comfy lead.\n",
    "def process_yards(df):\n",
    "    types = ['home','away']\n",
    "    for team in types:\n",
    "        df[team + '_yards'] = np.where( (df['posteam_type']==team), df['yards_clean'], 0)\n",
    "        df[team + '_yards_final'] = df[team + '_yards'].groupby(df['game_id']).transform('sum')\n",
    "        df[team + '_yards_wcl'] = np.where( (df['posteam_type']==team) & (df[team + '_comfy_lead']==1), df['yards_clean'], 0)\n",
    "        df[team + '_yards_wcl_final'] = df[team + '_yards_wcl'].groupby(df['game_id']).transform('sum')\n",
    "        df[team + '_yards_wcl_final'] = df.groupby(df['game_id'])[team + '_yards_wcl_final'].apply(lambda x: x.fillna(x.mean()))\n",
    "        df[team + '_yards_wcl_final'] = df.groupby(df['game_id'])[team + '_yards_wcl_final'].apply(lambda x: x.fillna(0))\n",
    "        df[team + '_yards_wocl_final'] = df[team + '_yards_final'] - df[team + '_yards_wcl_final']\n",
    "    return df\n",
    "\n",
    "# Creates a new column that counts offensive plays.\n",
    "# Creates a new column that displays the final tally of offensive plays for each game.\n",
    "# Creates a new column that displays the final tally of offensive plays for each game, if/when the team had a comfy lead.\n",
    "# Creates a new column that displays the final tally of offensive plays for each game, when the team did NOT have a comfy lead.\n",
    "def combined_plays(df):\n",
    "    types = ['home','away']\n",
    "    for team in types:\n",
    "        df[team + '_combined_plays'] = np.where( (df['posteam_type']==team) & ((df['play_type']=='pass') | (df['play_type']=='run')), 1, 0)\n",
    "        df[team + '_combined_plays_final'] = df[team + '_combined_plays'].groupby(df['game_id']).transform('sum')\n",
    "        df[team + '_run_%_final'] = df[team + '_runs_final'] / df[team + '_combined_plays_final']\n",
    "        df[team + '_combined_plays_wcl'] = np.where( (df['posteam_type']==team) & (df[team + '_comfy_lead'] == 1) & \n",
    "                                                ( (df['play_type']=='run') | (df['play_type']=='pass') ), 1, 0)\n",
    "        df[team + '_combined_plays_wcl_final'] = df[team + '_combined_plays_wcl'].groupby(df['game_id']).transform('sum')\n",
    "        df[team + '_combined_plays_wcl_final'] = df.groupby(df['game_id'])[team + '_combined_plays_wcl_final'].apply(lambda x: x.fillna(x.mean()))\n",
    "        df[team + '_combined_plays_wcl_final'] = df.groupby(df['game_id'])[team + '_combined_plays_wcl_final'].apply(lambda x: x.fillna(0))\n",
    "        df[team + '_combined_plays_wocl_final'] = df[team + '_combined_plays_final'] - df[team + '_combined_plays_wcl_final']\n",
    "    return df"
   ]
  },
  {
   "cell_type": "markdown",
   "metadata": {},
   "source": [
    "### Functions - Time of Possession, Drives"
   ]
  },
  {
   "cell_type": "code",
   "execution_count": 22,
   "metadata": {},
   "outputs": [],
   "source": [
    "# Creates a new column that counts offensive drives (or team possessions of the ball).\n",
    "# Creates a new column that displays the final tally of drives for each game.\n",
    "# Creates a new column that displays the final tally of drives for each game, if/when the team had a comfy lead.\n",
    "# Creates a new column that displays the final tally of drives for each game, when the team did NOT have a comfy lead.\n",
    "\n",
    "def process_drives(df):\n",
    "    types = ['home','away']\n",
    "    for team in types:\n",
    "        df[team + '_drive_unique'] = df.where(df.posteam_type == team).groupby(['drive']).ngroup() + 1\n",
    "        df[team + '_drives_final'] = df[df['posteam_type']==team].groupby(df['game_id'])['drive'].transform('nunique')\n",
    "        df[team + '_drives_final'] = df.groupby(df['game_id'])[team + '_drives_final'].apply(lambda x: x.fillna(x.mean()))\n",
    "        df[team + '_drive_wcl'] = df.where( (df.posteam_type == team) & \n",
    "                                                 (df[team + '_comfy_lead'] == 1) ).groupby('drive').ngroup() + 1\n",
    "        df[team + '_drives_wcl_final'] = df[(df['posteam_type']==team) &\n",
    "                                          (df[team + '_comfy_lead']==1)].groupby(df['game_id'])['drive'].transform('nunique')\n",
    "        df[team + '_drives_wcl_final'] = df.groupby(df['game_id'])[team + '_drives_wcl_final'].apply(lambda x: x.fillna(x.mean()))\n",
    "        df[team + '_drives_wcl_final'] = df.groupby(df['game_id'])[team + '_drives_wcl_final'].apply(lambda x: x.fillna(0))\n",
    "        df[team + '_drives_wocl_final'] = df[team + '_drives_final'] - df[team + '_drives_wcl_final']\n",
    "    return df\n",
    "\n",
    "# Creates a new column that counts time of possession (TOP, how many game clock seconds the team controls the ball).\n",
    "# Creates a new column that displays the final total TOP for each game.\n",
    "# Creates a new column that displays the final total TOP for each game, if/when the team had a comfy lead.\n",
    "# Creates a new column that displays the final total TOP for each game, when the team did NOT have a comfy lead.\n",
    "def process_TOP(df):\n",
    "    types = ['home','away']\n",
    "    for team in types:\n",
    "        df[team + '_TOP'] = np.where( ( (df['posteam_type']==team) & (df['qtr']<5) ) |\n",
    "                                ( (df['posteam_type']==team) & (df['qtr']==5) & \n",
    "                                 (df['game_seconds_remaining'].shift(1) >= df['game_seconds_remaining']) ), \n",
    "                                df.groupby(df['game_id']).game_seconds_remaining.diff().astype(float)*(-1), 0)\n",
    "        df[team + '_TOP_final'] = df[team + '_TOP'].groupby(df['game_id']).transform('sum')\n",
    "        \n",
    "        df[team + '_TOP_wcl'] = np.where( ( (df['posteam_type']==team) & (df[team + '_comfy_lead'] == 1) & (df['qtr']<5) ) |\n",
    "                                ( (df['posteam_type']==team) & (df[team + '_comfy_lead'] == 1) & (df['qtr']==5) & \n",
    "                                 (df['game_seconds_remaining'].shift(1) >= df['game_seconds_remaining']) ), \n",
    "                                df.groupby(df['game_id']).game_seconds_remaining.diff().astype(float)*(-1), 0)\n",
    "        df[team + '_TOP_wcl_final'] = df[team + '_TOP_wcl'].groupby(df['game_id']).transform('sum')\n",
    "        df[team + '_TOP_wocl'] = np.where( ( (df['posteam_type']==team) & (df[team + '_comfy_lead'] == 0) & (df['qtr']<5) ) |\n",
    "                                ( (df['posteam_type']==team) & (df[team + '_comfy_lead'] == 1) & (df['qtr']==5) & \n",
    "                                 (df['game_seconds_remaining'].shift(1) >= df['game_seconds_remaining']) ), \n",
    "                                df.groupby(df['game_id']).game_seconds_remaining.diff().astype(float)*(-1), 0)\n",
    "        df[team + '_TOP_wocl_final'] = df[team + '_TOP_wocl'].groupby(df['game_id']).transform('sum')\n",
    "    return df\n",
    "\n",
    "pd.set_option('display.max_rows', 500)"
   ]
  },
  {
   "cell_type": "code",
   "execution_count": 23,
   "metadata": {},
   "outputs": [],
   "source": [
    "data = process_score(data)\n",
    "data = process_pass(data)\n",
    "data = process_run(data)\n",
    "data = process_yards(data)\n",
    "data = combined_plays(data)\n",
    "data = process_drives(data)\n",
    "data = process_TOP(data)"
   ]
  },
  {
   "cell_type": "markdown",
   "metadata": {},
   "source": [
    "### Functions - Wins"
   ]
  },
  {
   "cell_type": "code",
   "execution_count": 24,
   "metadata": {
    "scrolled": true
   },
   "outputs": [],
   "source": [
    "data['game_winner'] = np.where(data['home_score_final'] > data['away_score_final'], data['home_team'],\n",
    "                             np.where(data['home_score_final'] < data['away_score_final'], data['away_team'], 'Tie'))\n",
    "def process_game_winner(df):\n",
    "    types = ['home','away']\n",
    "    for team in types:\n",
    "        data[team + '_gw'] = np.where( data['game_winner']==data[team + '_team'],1,0)\n",
    "    return df\n",
    "\n",
    "data = process_game_winner(data)"
   ]
  },
  {
   "cell_type": "markdown",
   "metadata": {},
   "source": [
    "### Team Strata\n",
    "As part of our look at offensive efficiency, we should see if teams that win more games in the regular season perform better in the categories we will explore."
   ]
  },
  {
   "cell_type": "code",
   "execution_count": 25,
   "metadata": {},
   "outputs": [],
   "source": [
    "# Creates a season column, which is effectively the year the regular season started.\n",
    "data['season'] = data['game_id'].astype(str).str[:4]\n",
    "data['season'] = data['season'].astype(int)\n",
    "\n",
    "# Designates early January regular season games as part of the season corresponding to the previous calendar year.\n",
    "# For example, a January 1st, 2017 game should be designated as part of the 2016 season, not the 2017 season.\n",
    "data.loc[data['game_date'].astype(str).str[5:7]==\n",
    "         '01','season'] = data.loc[data['game_date'].astype(str).str[5:7]=='01','season'] - 1\n",
    "\n",
    "# Since we will rely on final total values, we can limit each game_id to just one row each.\n",
    "end_of_game = data.sort_values('play_id').groupby('game_id').apply(lambda x : x.index[-1])\n",
    "data['EOG'] = 0\n",
    "data.loc[end_of_game, 'EOG'] = 1\n",
    "\n",
    "data['team_season_wins'] = data.groupby(['season','game_winner'])['EOG'].transform('sum')\n",
    "\n",
    "# Breaks down the teams into performance tiers. In the years available in this dataset, no team that's recorded 11\n",
    "# regular season wins has failed to reach the playoffs.\n",
    "data['good_team'] = np.where( data.team_season_wins >= 11, 1, 0)\n",
    "data['ok_team'] = np.where( (data.team_season_wins <= 10) & (data.team_season_wins >= 7), 1, 0)\n",
    "data['bad_team'] = np.where( data['team_season_wins'] <= 6, 1, 0)"
   ]
  },
  {
   "cell_type": "markdown",
   "metadata": {},
   "source": [
    "Next, we'll choose the features that are most applicable to our analysis."
   ]
  },
  {
   "cell_type": "markdown",
   "metadata": {},
   "source": [
    "# NEW DATAFRAME\n",
    "\n",
    "Now let's create the new dataframe with the features most relevant to our analysis."
   ]
  },
  {
   "cell_type": "code",
   "execution_count": 26,
   "metadata": {},
   "outputs": [],
   "source": [
    "features = ['season', 'play_id', 'game_id', 'home_team', 'away_team', 'posteam',\n",
    "            'posteam_type', 'desc',\n",
    "            'home_score_total', 'away_score_total', 'score_diff', 'home_comfy_lead','away_comfy_lead',\n",
    "            'home_score_final', 'away_score_final', 'EOG','game_winner',\n",
    "            'home_gw', 'away_gw','team_season_wins','good_team', 'ok_team', 'bad_team',\n",
    "            'yards_clean',\n",
    "            'home_yards_final', 'home_yards_wcl_final', 'home_yards_wocl_final',\n",
    "            'away_yards_final', 'away_yards_wcl_final', 'away_yards_wocl_final',\n",
    "            'home_passes', 'away_passes', 'home_runs', 'away_runs',\n",
    "            'home_combined_plays', 'home_combined_plays_final',\n",
    "            'home_combined_plays_wcl_final','home_combined_plays_wocl_final','home_run_%_final',\n",
    "            'away_combined_plays', 'away_combined_plays_final',\n",
    "            'away_combined_plays_wcl_final','away_combined_plays_wocl_final', 'away_run_%_final',\n",
    "            'drive',\n",
    "            'home_drive_unique','home_drives_final','home_drives_wcl_final', 'home_drives_wocl_final',\n",
    "            'away_drive_unique','away_drives_final', 'away_drives_wcl_final', 'away_drives_wocl_final',\n",
    "            'home_TOP','home_TOP_final', 'home_TOP_wcl_final', 'home_TOP_wocl_final',\n",
    "            'away_TOP','away_TOP_final', 'away_TOP_wcl_final', 'away_TOP_wocl_final'\n",
    "            ]\n",
    "\n",
    "nfl = data[features]\n",
    "\n",
    "pd.set_option('display.max_columns', 100)"
   ]
  },
  {
   "cell_type": "markdown",
   "metadata": {},
   "source": [
    "There are also some erroneous game results and team win totals by season that need to be adjusted."
   ]
  },
  {
   "cell_type": "code",
   "execution_count": 27,
   "metadata": {},
   "outputs": [
    {
     "name": "stderr",
     "output_type": "stream",
     "text": [
      "/home/jeesuk/anaconda3/lib/python3.6/site-packages/pandas/core/indexing.py:543: SettingWithCopyWarning: \n",
      "A value is trying to be set on a copy of a slice from a DataFrame.\n",
      "Try using .loc[row_indexer,col_indexer] = value instead\n",
      "\n",
      "See the caveats in the documentation: http://pandas.pydata.org/pandas-docs/stable/indexing.html#indexing-view-versus-copy\n",
      "  self.obj[item] = s\n"
     ]
    }
   ],
   "source": [
    "nfl.loc[nfl['game_id']==2010092700, 'game_winner'] = 'CHI'\n",
    "nfl.loc[nfl['game_id']==2010122500, 'game_winner'] = 'ARI'\n",
    "nfl.loc[nfl['game_id']==2013120806, 'game_winner'] = 'MIA'\n",
    "nfl.loc[nfl['game_id']==2013122900, 'game_winner'] = 'CAR'\n",
    "nfl.loc[nfl['game_id']==2014113004, 'game_winner'] = 'JAX'\n",
    "nfl.loc[nfl['game_id']==2015120602, 'game_winner'] = 'MIA'\n",
    "nfl.loc[nfl['game_id']==2016120400, 'game_winner'] = 'KC'\n",
    "nfl.loc[nfl['game_id']==2016111303, 'game_winner'] = 'DEN'\n",
    "nfl.loc[nfl['game_id']==2017010109, 'game_winner'] = 'TB'\n",
    "nfl.loc[nfl['game_id']==2017102902, 'game_winner'] = 'CIN'\n",
    "\n",
    "\n",
    "nfl.loc[(nfl.game_winner == 'NYG') & (nfl.season==2012), 'team_season_wins'] = 9\n",
    "nfl.loc[(nfl.game_winner == 'NYG') & (nfl.season==2016), 'team_season_wins'] = 11"
   ]
  },
  {
   "cell_type": "markdown",
   "metadata": {},
   "source": [
    "# VISUALIZATIONS\n",
    "\n",
    "Let's now look at some offensive efficiency metrics and see how they differ by team performance tier."
   ]
  },
  {
   "cell_type": "code",
   "execution_count": 28,
   "metadata": {},
   "outputs": [],
   "source": [
    "good = nfl[(nfl['good_team']==1) & (nfl['season']<2018)][features]\n",
    "ok = nfl[(nfl['ok_team']==1) & (nfl['season']<2018)][features]\n",
    "bad = nfl[(nfl['bad_team']==1) & (nfl['season']<2018)][features]"
   ]
  },
  {
   "cell_type": "markdown",
   "metadata": {},
   "source": [
    "### Running Plays"
   ]
  },
  {
   "cell_type": "code",
   "execution_count": 29,
   "metadata": {},
   "outputs": [
    {
     "data": {
      "text/plain": [
       "(0.3, 0.7)"
      ]
     },
     "execution_count": 29,
     "metadata": {},
     "output_type": "execute_result"
    },
    {
     "data": {
      "image/png": "[encoded data removed]",
      "text/plain": [
       "<Figure size 432x288 with 1 Axes>"
      ]
     },
     "metadata": {},
     "output_type": "display_data"
    },
    {
     "data": {
      "image/png": "[encoded data removed]",
      "text/plain": [
       "<Figure size 432x288 with 1 Axes>"
      ]
     },
     "metadata": {},
     "output_type": "display_data"
    }
   ],
   "source": [
    "# Ommitting 2018 because we do not have a full season's worth of data for it.\n",
    "seasons = [2009, 2010, 2011, 2012, 2013, 2014, 2015, 2016, 2017]\n",
    "\n",
    "import matplotlib.style as style\n",
    "style.use('fivethirtyeight')\n",
    "\n",
    "# Run plays as % of total plays general formula\n",
    "def run_play_breakdown(df, comfy_lead):\n",
    "    team_list = []\n",
    "    for season in seasons:\n",
    "        home_runs = df.loc[(df.season == season) & (df.home_comfy_lead == comfy_lead), 'home_runs'].sum()\n",
    "        away_runs = df.loc[(df.season == season) & (df.away_comfy_lead == comfy_lead), 'away_runs'].sum()\n",
    "        home_passes = df.loc[(df.season == season) & (df.home_comfy_lead == comfy_lead), 'home_passes'].sum()\n",
    "        away_passes = df.loc[(df.season == season) & (df.away_comfy_lead == comfy_lead), 'away_passes'].sum()\n",
    "        total_runs = home_runs + away_runs\n",
    "        total_plays = home_runs + away_runs + home_passes + away_passes\n",
    "        total_run_perc = total_runs / total_plays\n",
    "        team_list.append(total_run_perc)\n",
    "    return team_list\n",
    "\n",
    "\n",
    "# Run play % when the team has a comfortable lead.\n",
    "good_teams_comfylead = run_play_breakdown(good, 1)\n",
    "ok_teams_comfylead = run_play_breakdown(ok, 1)\n",
    "bad_teams_comfylead = run_play_breakdown(bad, 1)\n",
    "\n",
    "%matplotlib inline\n",
    "\n",
    "runs_comfylead = pd.DataFrame(\n",
    "    {   \"Season\": seasons,\n",
    "        \"Good\": good_teams_comfylead,\n",
    "        \"OK\": ok_teams_comfylead,\n",
    "        \"Bad\": bad_teams_comfylead\n",
    "    })\n",
    "\n",
    "rcl_percents = runs_comfylead.iloc[0,1:4]\n",
    "\n",
    "runs_comfylead_graph = runs_comfylead.plot(x = 'Season', y = rcl_percents.index)\n",
    "runs_comfylead_graph.tick_params(axis = 'both', which = 'major', labelsize = 10)\n",
    "runs_comfylead_graph.set_ylim(.3, .7)\n",
    "\n",
    "\n",
    "# Run play % when the team does NOT have a comfortable lead.\n",
    "good_teams_no_comfylead = run_play_breakdown(good, 0)\n",
    "ok_teams_no_comfylead = run_play_breakdown(ok, 0)\n",
    "bad_teams_no_comfylead = run_play_breakdown(bad, 0)\n",
    "\n",
    "runs_no_comfylead = pd.DataFrame(\n",
    "    {\n",
    "        \"Season\": seasons,\n",
    "        \"Good\": good_teams_no_comfylead,\n",
    "        \"OK\": ok_teams_no_comfylead,\n",
    "        \"Bad\": bad_teams_no_comfylead\n",
    "    })\n",
    "\n",
    "rncl_percents = runs_no_comfylead.iloc[0,1:4]\n",
    "\n",
    "runs_no_comfylead_graph = runs_no_comfylead.plot(x = 'Season', y = rncl_percents.index)\n",
    "runs_no_comfylead_graph.tick_params(axis = 'both', which = 'major', labelsize = 10)\n",
    "runs_no_comfylead_graph.set_ylim(.3,.7)"
   ]
  },
  {
   "cell_type": "markdown",
   "metadata": {},
   "source": [
    "We can see that all teams call runs on roughly 40% of their plays when they do not have a substantial lead and run more often (about 60% of plays) when they do."
   ]
  },
  {
   "cell_type": "markdown",
   "metadata": {},
   "source": [
    "### Yardage"
   ]
  },
  {
   "cell_type": "code",
   "execution_count": 30,
   "metadata": {},
   "outputs": [
    {
     "data": {
      "text/plain": [
       "(0, 40)"
      ]
     },
     "execution_count": 30,
     "metadata": {},
     "output_type": "execute_result"
    },
    {
     "data": {
      "image/png": "[encoded data removed]",
      "text/plain": [
       "<Figure size 432x288 with 1 Axes>"
      ]
     },
     "metadata": {},
     "output_type": "display_data"
    },
    {
     "data": {
      "image/png": "[encoded data removed]",
      "text/plain": [
       "<Figure size 432x288 with 1 Axes>"
      ]
     },
     "metadata": {},
     "output_type": "display_data"
    },
    {
     "data": {
      "image/png": "[encoded data removed]",
      "text/plain": [
       "<Figure size 432x288 with 1 Axes>"
      ]
     },
     "metadata": {},
     "output_type": "display_data"
    }
   ],
   "source": [
    "# Yards per drive general formula\n",
    "def yards_breakdown(df, yards, drives):\n",
    "    team_list = []\n",
    "    for season in seasons:\n",
    "        home_yards = df.loc[(df.season == season) & (df.EOG==1), 'home' + yards].sum()\n",
    "        away_yards = df.loc[(df.season == season) & (df.EOG==1), 'away' + yards].sum()\n",
    "        home_drives = df.loc[(df.season == season) & (df.EOG==1), 'home' + drives].sum()\n",
    "        away_drives = df.loc[(df.season == season) & (df.EOG==1), 'away' + drives].sum()\n",
    "        total_yards = home_yards + away_yards\n",
    "        total_drives = home_drives + away_drives\n",
    "        yards_per_drive = total_yards / total_drives\n",
    "        team_list.append(yards_per_drive)\n",
    "    return team_list\n",
    "\n",
    "\n",
    "# Yards per drive when the team has a comfortable lead.\n",
    "good_teams_ypd_cl = yards_breakdown(good, '_yards_wcl_final', '_drives_wcl_final')\n",
    "ok_teams_ypd_cl = yards_breakdown(ok, '_yards_wcl_final', '_drives_wcl_final')\n",
    "bad_teams_ypd_cl = yards_breakdown(bad, '_yards_wcl_final', '_drives_wcl_final')\n",
    "\n",
    "%matplotlib inline\n",
    "\n",
    "yards_cl = pd.DataFrame(\n",
    "    {   \"Season\": seasons,\n",
    "        \"Good\": good_teams_ypd_cl,\n",
    "        \"OK\": ok_teams_ypd_cl,\n",
    "        \"Bad\": bad_teams_ypd_cl\n",
    "    })\n",
    "\n",
    "yards_cl_percents = yards_cl.iloc[0,1:4]\n",
    "\n",
    "yards_cl_graph = yards_cl.plot(\"Season\", yards_cl_percents.index)\n",
    "yards_cl_graph.tick_params(axis = 'both', which = 'major', labelsize = 10)\n",
    "yards_cl_graph.set_ylim(0, 40)\n",
    "\n",
    "\n",
    "# Yards per drive when the team does NOT have a comfortable lead.\n",
    "good_teams_ypd_nocl = yards_breakdown(good, '_yards_wocl_final', '_drives_wocl_final')\n",
    "ok_teams_ypd_nocl = yards_breakdown(ok, '_yards_wocl_final', '_drives_wocl_final')\n",
    "bad_teams_ypd_nocl = yards_breakdown(bad, '_yards_wocl_final', '_drives_wocl_final')\n",
    "\n",
    "yards_no_comfylead = pd.DataFrame(\n",
    "    {   \"Season\": seasons,\n",
    "        \"Good\": good_teams_ypd_nocl,\n",
    "        \"OK\": ok_teams_ypd_nocl,\n",
    "        \"Bad\": bad_teams_ypd_nocl\n",
    "    })\n",
    "\n",
    "yards_no_comfylead_percents = yards_no_comfylead.iloc[0,1:4]\n",
    "\n",
    "yards_no_comfylead_graph = yards_no_comfylead.plot(\"Season\", yards_no_comfylead_percents.index)\n",
    "yards_no_comfylead_graph.tick_params(axis = 'both', which = 'major', labelsize = 10)\n",
    "yards_no_comfylead_graph.set_ylim(0, 40)\n",
    "\n",
    "\n",
    "# Yards per drive overall\n",
    "good_teams_ypd = yards_breakdown(good, '_yards_final', '_drives_final')\n",
    "ok_teams_ypd = yards_breakdown(ok, '_yards_final', '_drives_final')\n",
    "bad_teams_ypd = yards_breakdown(bad, '_yards_final', '_drives_final')\n",
    "\n",
    "yards = pd.DataFrame(\n",
    "    {   \"Season\": seasons,\n",
    "        \"Good\": good_teams_ypd,\n",
    "        \"OK\": ok_teams_ypd,\n",
    "        \"Bad\": bad_teams_ypd\n",
    "    })\n",
    "\n",
    "yards_percents = yards.iloc[0,1:4]\n",
    "\n",
    "yards_graph = yards.plot(\"Season\", yards_percents.index)\n",
    "yards_graph.tick_params(axis = 'both', which = 'major', labelsize = 10)\n",
    "yards_graph.set_ylim(0, 40)"
   ]
  },
  {
   "cell_type": "markdown",
   "metadata": {},
   "source": [
    "While there is some separation in overall yards per drive between good teams and bad teams, when a comfortable lead is established, good teams are substantially better at accumulating more yards per drive. While some long-yardage drives can actually be very brief (e.g. drives that result in quick scores on singular explosive plays), they are generally suggestive of longer time of possession."
   ]
  },
  {
   "cell_type": "markdown",
   "metadata": {},
   "source": [
    "### Plays per Drive"
   ]
  },
  {
   "cell_type": "code",
   "execution_count": 31,
   "metadata": {},
   "outputs": [
    {
     "data": {
      "text/plain": [
       "(2, 6)"
      ]
     },
     "execution_count": 31,
     "metadata": {},
     "output_type": "execute_result"
    },
    {
     "data": {
      "image/png": "[encoded data removed]",
      "text/plain": [
       "<Figure size 432x288 with 1 Axes>"
      ]
     },
     "metadata": {},
     "output_type": "display_data"
    },
    {
     "data": {
      "image/png": "[encoded data removed]",
      "text/plain": [
       "<Figure size 432x288 with 1 Axes>"
      ]
     },
     "metadata": {},
     "output_type": "display_data"
    },
    {
     "data": {
      "image/png": "[encoded data removed]",
      "text/plain": [
       "<Figure size 432x288 with 1 Axes>"
      ]
     },
     "metadata": {},
     "output_type": "display_data"
    }
   ],
   "source": [
    "# Plays per drive general formula\n",
    "def ppd_breakdown(df, plays, drives):\n",
    "    team_list = []\n",
    "    for season in seasons:\n",
    "        home_plays = df.loc[(df.season == season) & (df.EOG==1), 'home' + plays].sum()\n",
    "        away_plays = df.loc[(df.season == season) & (df.EOG==1), 'away' + plays].sum()\n",
    "        home_drives = df.loc[(df.season == season) & (df.EOG==1), 'home' + drives].sum()\n",
    "        away_drives = df.loc[(df.season == season) & (df.EOG==1), 'away' + drives].sum()\n",
    "        total_plays = home_plays + away_plays\n",
    "        total_drives = home_drives + away_drives\n",
    "        total_ppd = total_plays / total_drives\n",
    "        team_list.append(total_ppd)\n",
    "    return team_list\n",
    "\n",
    "%matplotlib inline\n",
    "\n",
    "\n",
    "# Plays per drive when the team has a comfortable lead\n",
    "good_teams_ppd_cl = ppd_breakdown(good, '_combined_plays_wcl_final', '_drives_wcl_final')\n",
    "ok_teams_ppd_cl = ppd_breakdown(ok, '_combined_plays_wcl_final', '_drives_wcl_final')\n",
    "bad_teams_ppd_cl = ppd_breakdown(bad, '_combined_plays_wcl_final', '_drives_wcl_final')\n",
    "\n",
    "ppd_cl = pd.DataFrame(\n",
    "    {   \"Season\": seasons,\n",
    "        \"Good\": good_teams_ppd_cl,\n",
    "        \"OK\": ok_teams_ppd_cl,\n",
    "        \"Bad\": bad_teams_ppd_cl\n",
    "    })\n",
    "\n",
    "\n",
    "ppdcl_percents = ppd_cl.iloc[0,1:4]\n",
    "\n",
    "ppd_cl_graph = ppd_cl.plot(\"Season\", ppdcl_percents.index)\n",
    "ppd_cl_graph.tick_params(axis = 'both', which = 'major', labelsize = 10)\n",
    "ppd_cl_graph.set_ylim(2, 6)\n",
    "\n",
    "\n",
    "# Plays per drive when the team does NOT have a comfortable lead\n",
    "good_teams_ppd_no_cl = ppd_breakdown(good, '_combined_plays_wocl_final', '_drives_wocl_final')\n",
    "ok_teams_ppd_no_cl = ppd_breakdown(ok, '_combined_plays_wocl_final', '_drives_wocl_final')\n",
    "bad_teams_ppd_no_cl = ppd_breakdown(bad, '_combined_plays_wocl_final', '_drives_wocl_final')\n",
    "\n",
    "ppd_no_cl = pd.DataFrame(\n",
    "    {   \"Season\": seasons,\n",
    "        \"Good\": good_teams_ppd_no_cl,\n",
    "        \"OK\": ok_teams_ppd_no_cl,\n",
    "        \"Bad\": bad_teams_ppd_no_cl\n",
    "    })\n",
    "\n",
    "ppdncl_percents = ppd_no_cl.iloc[0,1:4]\n",
    "\n",
    "ppd_no_cl_graph = ppd_no_cl.plot(\"Season\", ppdncl_percents.index)\n",
    "ppd_no_cl_graph.tick_params(axis = 'both', which = 'major', labelsize = 10)\n",
    "ppd_no_cl_graph.set_ylim(2,6)\n",
    "\n",
    "\n",
    "# Plays per drive overall\n",
    "good_teams_ppd = ppd_breakdown(good, '_combined_plays_final', '_drives_final')\n",
    "ok_teams_ppd = ppd_breakdown(ok, '_combined_plays_final', '_drives_final')\n",
    "bad_teams_ppd = ppd_breakdown(bad, '_combined_plays_final', '_drives_final')\n",
    "\n",
    "ppd = pd.DataFrame(\n",
    "    {\n",
    "        \"Season\": seasons,\n",
    "        \"Good\": good_teams_ppd,\n",
    "        \"OK\": ok_teams_ppd,\n",
    "        \"Bad\": bad_teams_ppd\n",
    "    })\n",
    "\n",
    "ppd_percents = ppd.iloc[0,1:4]\n",
    "\n",
    "ppd_graph = ppd.plot('Season', ppd_percents.index)\n",
    "ppd_graph.tick_params(axis = 'both', which = 'major', labelsize = 10)\n",
    "ppd_graph.set_ylim(2,6)"
   ]
  },
  {
   "cell_type": "markdown",
   "metadata": {},
   "source": [
    "Again, there is some separation here with plays per drive between good teams and bad teams, and significantly more separation in drives with a comfortable lead established. We can also see that OK teams occasionally \"punch above their weight\" and hit plays per drive levels commensurate with those of good teams.\n",
    "\n",
    "Good teams consistently execute 1 more play per drive than bad teams when they have comfortable leads. A drive consisting of more plays will typically \"drain the clock\" and leave the opposition with less time to mount a comeback."
   ]
  },
  {
   "cell_type": "markdown",
   "metadata": {},
   "source": [
    "### TOP per Drive"
   ]
  },
  {
   "cell_type": "code",
   "execution_count": 32,
   "metadata": {},
   "outputs": [
    {
     "data": {
      "text/plain": [
       "(90, 160)"
      ]
     },
     "execution_count": 32,
     "metadata": {},
     "output_type": "execute_result"
    },
    {
     "data": {
      "image/png": "[encoded data removed]",
      "text/plain": [
       "<Figure size 432x288 with 1 Axes>"
      ]
     },
     "metadata": {},
     "output_type": "display_data"
    },
    {
     "data": {
      "image/png": "[encoded data removed]",
      "text/plain": [
       "<Figure size 432x288 with 1 Axes>"
      ]
     },
     "metadata": {},
     "output_type": "display_data"
    },
    {
     "data": {
      "image/png": "[encoded data removed]",
      "text/plain": [
       "<Figure size 432x288 with 1 Axes>"
      ]
     },
     "metadata": {},
     "output_type": "display_data"
    }
   ],
   "source": [
    "# TOP per drive general formula\n",
    "def TOP_breakdown(df, TOP, drives):\n",
    "    team_list = []\n",
    "    for season in seasons:\n",
    "        home_TOP = df.loc[(df.season == season) & (df.EOG==1), 'home' + TOP].sum()\n",
    "        away_TOP = df.loc[(df.season == season) & (df.EOG==1), 'away' + TOP].sum()\n",
    "        home_drives = df.loc[(df.season == season) & (df.EOG==1), 'home' + drives].sum()\n",
    "        away_drives = df.loc[(df.season == season) & (df.EOG==1), 'away' + drives].sum()\n",
    "        total_TOP = home_TOP + away_TOP\n",
    "        total_drives = home_drives + away_drives\n",
    "        total_TOP_pd = total_TOP / total_drives\n",
    "        team_list.append(total_TOP_pd)\n",
    "    return team_list\n",
    "\n",
    "\n",
    "# TOP per drive when the team has a comfortable lead\n",
    "good_teams_TOP_pd_cl = TOP_breakdown(good, '_TOP_wcl_final', '_drives_wcl_final')\n",
    "ok_teams_TOP_pd_cl = TOP_breakdown(ok, '_TOP_wcl_final', '_drives_wcl_final')\n",
    "bad_teams_TOP_pd_cl = TOP_breakdown(bad, '_TOP_wcl_final', '_drives_wcl_final')\n",
    "\n",
    "TOP_cl = pd.DataFrame(\n",
    "    {\n",
    "        \"Season\": seasons,\n",
    "        \"Good\": good_teams_TOP_pd_cl,\n",
    "        \"OK\": ok_teams_TOP_pd_cl,        \n",
    "        \"Bad\": bad_teams_TOP_pd_cl\n",
    "    })\n",
    "\n",
    "TOP_cl_percents = TOP_cl.iloc[0,1:4]\n",
    "\n",
    "TOP_cl_graph = TOP_cl.plot('Season', TOP_cl_percents.index)\n",
    "TOP_cl_graph.tick_params(axis = 'both', which = 'major', labelsize = 10)\n",
    "TOP_cl_graph.set_ylim(90,160)\n",
    "\n",
    "\n",
    "# TOP per drive when the team does NOT have a comfortable lead\n",
    "good_teams_TOP_pd_no_cl = TOP_breakdown(good, '_TOP_wocl_final', '_drives_wocl_final')\n",
    "ok_teams_TOP_pd_no_cl = TOP_breakdown(ok, '_TOP_wocl_final', '_drives_wocl_final')\n",
    "bad_teams_TOP_pd_no_cl = TOP_breakdown(bad, '_TOP_wocl_final', '_drives_wocl_final')\n",
    "\n",
    "TOP_no_cl = pd.DataFrame(\n",
    "    {\n",
    "        \"Season\": seasons,\n",
    "        \"Good\": good_teams_TOP_pd_no_cl,\n",
    "        \"OK\": ok_teams_TOP_pd_no_cl,        \n",
    "        \"Bad\": bad_teams_TOP_pd_no_cl\n",
    "    })\n",
    "\n",
    "TOP_no_cl_percents = TOP_no_cl.iloc[0,1:4]\n",
    "\n",
    "TOP_no_cl_graph = TOP_no_cl.plot('Season', TOP_no_cl_percents.index)\n",
    "TOP_no_cl_graph.tick_params(axis = 'both', which = 'major', labelsize = 10)\n",
    "TOP_no_cl_graph.set_ylim(90,160)\n",
    "\n",
    "\n",
    "# TOP per drive overall\n",
    "good_teams_TOP_pd = TOP_breakdown(good, '_TOP_final', '_drives_final')\n",
    "ok_teams_TOP_pd = TOP_breakdown(ok, '_TOP_final', '_drives_final')\n",
    "bad_teams_TOP_pd = TOP_breakdown(bad, '_TOP_final', '_drives_final')\n",
    "\n",
    "TOP = pd.DataFrame(\n",
    "    {\n",
    "        \"Season\": seasons,  \n",
    "        \"Good\": good_teams_TOP_pd,\n",
    "        \"OK\": ok_teams_TOP_pd,      \n",
    "        \"Bad\": bad_teams_TOP_pd\n",
    "    })\n",
    "\n",
    "TOP_percent = TOP.iloc[0,1:4]\n",
    "\n",
    "TOP_graph = TOP.plot('Season', TOP_percent.index)\n",
    "TOP_graph.tick_params(axis = 'both', which = 'major', labelsize = 10)\n",
    "TOP_graph.set_ylim(90,160)"
   ]
  },
  {
   "cell_type": "markdown",
   "metadata": {},
   "source": [
    "This is the most on-the-nose indicator of ball control and a great suggester of offensive efficiency. Good teams overall hold onto the ball longer than bad teams by ~7 seconds per drive. When a comfortable lead is established, good teams are dramatically better at draining the clock. Bad teams surrender the ball faster and blow comfortable leads."
   ]
  },
  {
   "cell_type": "markdown",
   "metadata": {},
   "source": [
    "### Points per Drive"
   ]
  },
  {
   "cell_type": "code",
   "execution_count": 33,
   "metadata": {},
   "outputs": [
    {
     "data": {
      "text/plain": [
       "(1.5, 2.5)"
      ]
     },
     "execution_count": 33,
     "metadata": {},
     "output_type": "execute_result"
    },
    {
     "data": {
      "image/png": "[encoded data removed]",
      "text/plain": [
       "<Figure size 432x288 with 1 Axes>"
      ]
     },
     "metadata": {},
     "output_type": "display_data"
    }
   ],
   "source": [
    "# Points per drive general formula\n",
    "def score_breakdown(df, score, drives):\n",
    "    team_list = []\n",
    "    for season in seasons:\n",
    "        home_score = df.loc[(df.season == season) & (df.EOG==1), 'home' + score].sum()\n",
    "        away_score = df.loc[(df.season == season) & (df.EOG==1), 'away' + score].sum()\n",
    "        home_drives = df.loc[(df.season == season) & (df.EOG==1), 'home' + drives].sum()\n",
    "        away_drives = df.loc[(df.season == season) & (df.EOG==1), 'away' + drives].sum()\n",
    "        total_score = home_score + away_score\n",
    "        total_drives = home_drives + away_drives\n",
    "        total_score_pd = total_score / total_drives\n",
    "        team_list.append(total_score_pd)\n",
    "    return team_list\n",
    "\n",
    "\n",
    "# Points per drive overall\n",
    "good_teams_score_pd = score_breakdown(good, '_score_final', '_drives_final')\n",
    "ok_teams_score_pd = score_breakdown(ok, '_score_final', '_drives_final')\n",
    "bad_teams_score_pd = score_breakdown(bad, '_score_final', '_drives_final')\n",
    "\n",
    "score = pd.DataFrame(\n",
    "    {\n",
    "        \"Season\": seasons,\n",
    "        \"Good\": good_teams_score_pd,\n",
    "        \"OK\": ok_teams_score_pd,\n",
    "        \"Bad\": bad_teams_score_pd\n",
    "    })\n",
    "\n",
    "score_percents = score.iloc[0,1:4]\n",
    "\n",
    "score_graph = score.plot('Season', score_percents.index)\n",
    "score_graph.tick_params(axis = 'both', which = 'major', labelsize = 10)\n",
    "score_graph.set_ylim(1.5,2.5)"
   ]
  },
  {
   "cell_type": "markdown",
   "metadata": {},
   "source": [
    "Naturally, one would expect a team that wins more to score more points per drive. This expectation holds true in our graph.\n",
    "\n",
    "# LOGISTIC REGRESSION\n",
    "Now let's perform logistic regression on our metrics to see what we find."
   ]
  },
  {
   "cell_type": "code",
   "execution_count": 34,
   "metadata": {
    "scrolled": false
   },
   "outputs": [],
   "source": [
    "nfl_eog = nfl[nfl['EOG']==1]"
   ]
  },
  {
   "cell_type": "markdown",
   "metadata": {},
   "source": [
    "### Time of Possession per Drive"
   ]
  },
  {
   "cell_type": "code",
   "execution_count": 35,
   "metadata": {},
   "outputs": [
    {
     "name": "stderr",
     "output_type": "stream",
     "text": [
      "/home/jeesuk/anaconda3/lib/python3.6/site-packages/ipykernel_launcher.py:4: SettingWithCopyWarning: \n",
      "A value is trying to be set on a copy of a slice from a DataFrame.\n",
      "Try using .loc[row_indexer,col_indexer] = value instead\n",
      "\n",
      "See the caveats in the documentation: http://pandas.pydata.org/pandas-docs/stable/indexing.html#indexing-view-versus-copy\n",
      "  after removing the cwd from sys.path.\n",
      "/home/jeesuk/anaconda3/lib/python3.6/site-packages/ipykernel_launcher.py:5: SettingWithCopyWarning: \n",
      "A value is trying to be set on a copy of a slice from a DataFrame.\n",
      "Try using .loc[row_indexer,col_indexer] = value instead\n",
      "\n",
      "See the caveats in the documentation: http://pandas.pydata.org/pandas-docs/stable/indexing.html#indexing-view-versus-copy\n",
      "  \"\"\"\n"
     ]
    },
    {
     "data": {
      "image/png": "[encoded data removed]",
      "text/plain": [
       "<Figure size 432x288 with 1 Axes>"
      ]
     },
     "metadata": {},
     "output_type": "display_data"
    },
    {
     "name": "stderr",
     "output_type": "stream",
     "text": [
      "/home/jeesuk/anaconda3/lib/python3.6/site-packages/ipykernel_launcher.py:16: SettingWithCopyWarning: \n",
      "A value is trying to be set on a copy of a slice from a DataFrame.\n",
      "Try using .loc[row_indexer,col_indexer] = value instead\n",
      "\n",
      "See the caveats in the documentation: http://pandas.pydata.org/pandas-docs/stable/indexing.html#indexing-view-versus-copy\n",
      "  app.launch_new_instance()\n",
      "/home/jeesuk/anaconda3/lib/python3.6/site-packages/ipykernel_launcher.py:17: SettingWithCopyWarning: \n",
      "A value is trying to be set on a copy of a slice from a DataFrame.\n",
      "Try using .loc[row_indexer,col_indexer] = value instead\n",
      "\n",
      "See the caveats in the documentation: http://pandas.pydata.org/pandas-docs/stable/indexing.html#indexing-view-versus-copy\n"
     ]
    },
    {
     "data": {
      "image/png": "[encoded data removed]",
      "text/plain": [
       "<Figure size 432x288 with 1 Axes>"
      ]
     },
     "metadata": {},
     "output_type": "display_data"
    }
   ],
   "source": [
    "import matplotlib.pyplot as plt\n",
    "from sklearn.linear_model import LogisticRegression\n",
    "\n",
    "nfl_eog['home_TOP_pd'] = nfl_eog['home_TOP_final'] / nfl_eog['home_drives_final']\n",
    "nfl_eog['home_TOP_pd'] = nfl_eog['home_TOP_pd'].fillna(0)\n",
    "\n",
    "logistic_model = LogisticRegression()\n",
    "logistic_model.fit(nfl_eog[['home_TOP_pd']], nfl_eog['home_gw'])\n",
    "home_TOP_labels = logistic_model.predict(nfl_eog[['home_TOP_pd']])\n",
    "plt.scatter(nfl_eog['home_TOP_pd'], home_TOP_labels)\n",
    "plt.show()\n",
    "\n",
    "nfl_eog['away_TOP_pd'] = nfl_eog['away_TOP_final'] / nfl_eog['away_drives_final']\n",
    "nfl_eog['away_TOP_pd'] = nfl_eog['away_TOP_pd'].fillna(0)\n",
    "\n",
    "logistic_model = LogisticRegression()\n",
    "logistic_model.fit(nfl_eog[['away_TOP_pd']], nfl_eog['away_gw'])\n",
    "away_TOP_labels = logistic_model.predict(nfl_eog[['away_TOP_pd']])\n",
    "plt.scatter(nfl_eog['away_TOP_pd'], away_TOP_labels)\n",
    "plt.show()"
   ]
  },
  {
   "cell_type": "markdown",
   "metadata": {},
   "source": [
    "### Plays per Drive"
   ]
  },
  {
   "cell_type": "code",
   "execution_count": 41,
   "metadata": {},
   "outputs": [
    {
     "name": "stderr",
     "output_type": "stream",
     "text": [
      "/home/jeesuk/anaconda3/lib/python3.6/site-packages/ipykernel_launcher.py:1: SettingWithCopyWarning: \n",
      "A value is trying to be set on a copy of a slice from a DataFrame.\n",
      "Try using .loc[row_indexer,col_indexer] = value instead\n",
      "\n",
      "See the caveats in the documentation: http://pandas.pydata.org/pandas-docs/stable/indexing.html#indexing-view-versus-copy\n",
      "  \"\"\"Entry point for launching an IPython kernel.\n"
     ]
    },
    {
     "data": {
      "image/png": "[encoded data removed]",
      "text/plain": [
       "<Figure size 432x288 with 1 Axes>"
      ]
     },
     "metadata": {},
     "output_type": "display_data"
    }
   ],
   "source": [
    "nfl_eog['home_combined_plays_pd'] = nfl_eog['home_combined_plays_final'] / nfl_eog['home_drives_final']\n",
    "\n",
    "logistic_model = LogisticRegression()\n",
    "logistic_model.fit(nfl_eog[['home_combined_plays_pd']], nfl_eog['home_gw'])\n",
    "home_combined_plays_labels = logistic_model.predict(nfl_eog[['home_combined_plays_pd']])\n",
    "plt.scatter(nfl_eog['home_combined_plays_pd'], home_combined_plays_labels)\n",
    "plt.show()"
   ]
  },
  {
   "cell_type": "markdown",
   "metadata": {},
   "source": [
    "#### Home Team Plays per Drive and Winning\n",
    "Interestingly, regardless of the plays per drive average, our model predicts that the home team will win. Let's look at the probabilities to see why this is the case."
   ]
  },
  {
   "cell_type": "code",
   "execution_count": 46,
   "metadata": {},
   "outputs": [
    {
     "data": {
      "text/plain": [
       "<matplotlib.collections.PathCollection at 0x7f76d4584da0>"
      ]
     },
     "execution_count": 46,
     "metadata": {},
     "output_type": "execute_result"
    },
    {
     "data": {
      "image/png": "[encoded data removed]",
      "text/plain": [
       "<Figure size 432x288 with 1 Axes>"
      ]
     },
     "metadata": {},
     "output_type": "display_data"
    }
   ],
   "source": [
    "logistic_model = LogisticRegression()\n",
    "logistic_model.fit(nfl_eog[['home_combined_plays_pd']], nfl_eog['home_gw'])\n",
    "home_combined_plays_pred_probs = logistic_model.predict_proba(nfl_eog[['home_combined_plays_pd']])\n",
    "plt.scatter(nfl_eog['home_combined_plays_pd'], home_combined_plays_pred_probs[:,1])"
   ]
  },
  {
   "cell_type": "markdown",
   "metadata": {},
   "source": [
    "Even a sub-4 plays per drive average yields a 52.5% probability of victory. Let's look at some slices of the the `nfl_eog` dataframe to confirm this."
   ]
  },
  {
   "cell_type": "code",
   "execution_count": 49,
   "metadata": {},
   "outputs": [
    {
     "name": "stdout",
     "output_type": "stream",
     "text": [
      "(55, 7)\n",
      "(62, 7)\n",
      "(504, 7)\n",
      "(396, 7)\n"
     ]
    }
   ],
   "source": [
    "# Home team registers less than or equal to 4 plays per drive on average\n",
    "print(nfl_eog.loc[(nfl_eog.home_gw==1) & (nfl_eog.home_combined_plays_pd<=4), ['game_id','home_team','away_team', 'game_winner',\n",
    "         'home_combined_plays_final', 'home_drives_final', 'home_combined_plays_pd']].shape)\n",
    "print(nfl_eog.loc[(nfl_eog.home_gw==0) & (nfl_eog.home_combined_plays_pd<=4), ['game_id','home_team','away_team', 'game_winner',\n",
    "         'home_combined_plays_final', 'home_drives_final', 'home_combined_plays_pd']].shape)\n",
    "\n",
    "# Home team registers less than or equal to 5 plays per drive on average\n",
    "print(nfl_eog.loc[(nfl_eog.home_gw==1) & (nfl_eog.home_combined_plays_pd<=5), ['game_id','home_team','away_team', 'game_winner',\n",
    "         'home_combined_plays_final', 'home_drives_final', 'home_combined_plays_pd']].shape)\n",
    "print(nfl_eog.loc[(nfl_eog.home_gw==0) & (nfl_eog.home_combined_plays_pd<=5), ['game_id','home_team','away_team', 'game_winner',\n",
    "         'home_combined_plays_final', 'home_drives_final', 'home_combined_plays_pd']].shape)"
   ]
  },
  {
   "cell_type": "markdown",
   "metadata": {},
   "source": [
    "#### Home Field Advantage?\n",
    "From this look at the breakdown of home team victories despite limited plays per drive, home field advantage is truly pronounced. How exactly this is manifesting on the field is unclear, but possible factors include:\n",
    "\n",
    "- Quick offensive strikes on some drives for the home team\n",
    "- Suffocating home team defense\n",
    "- Turnovers forced or great special teams plays that result in the home field getting favorable field position to begin their drives"
   ]
  },
  {
   "cell_type": "code",
   "execution_count": 50,
   "metadata": {},
   "outputs": [
    {
     "name": "stderr",
     "output_type": "stream",
     "text": [
      "/home/jeesuk/anaconda3/lib/python3.6/site-packages/ipykernel_launcher.py:1: SettingWithCopyWarning: \n",
      "A value is trying to be set on a copy of a slice from a DataFrame.\n",
      "Try using .loc[row_indexer,col_indexer] = value instead\n",
      "\n",
      "See the caveats in the documentation: http://pandas.pydata.org/pandas-docs/stable/indexing.html#indexing-view-versus-copy\n",
      "  \"\"\"Entry point for launching an IPython kernel.\n"
     ]
    },
    {
     "data": {
      "image/png": "[encoded data removed]",
      "text/plain": [
       "<Figure size 432x288 with 1 Axes>"
      ]
     },
     "metadata": {},
     "output_type": "display_data"
    }
   ],
   "source": [
    "nfl_eog['away_combined_plays_pd'] = nfl_eog['away_combined_plays_final'] / nfl_eog['away_drives_final']\n",
    "\n",
    "logistic_model = LogisticRegression()\n",
    "logistic_model.fit(nfl_eog[['away_combined_plays_pd']], nfl_eog['away_gw'])\n",
    "away_combined_plays_labels = logistic_model.predict(nfl_eog[['away_combined_plays_pd']])\n",
    "plt.scatter(nfl_eog['away_combined_plays_pd'], away_combined_plays_labels)\n",
    "plt.show()"
   ]
  },
  {
   "cell_type": "markdown",
   "metadata": {},
   "source": [
    "#### Hostile Territory\n",
    "The away team, however, must generate at least 9 plays per drive on average in order to have greater than 50% probability of victory. Possible factors include those mentioned above that contribute to home field advantage, in addition to a noisy home team crowd that makes it extremely difficult for the away team offense to communicate. This can result in mistakes that render plays ineffective.\n",
    "\n",
    "## Yards per Drive"
   ]
  },
  {
   "cell_type": "code",
   "execution_count": 51,
   "metadata": {},
   "outputs": [
    {
     "name": "stderr",
     "output_type": "stream",
     "text": [
      "/home/jeesuk/anaconda3/lib/python3.6/site-packages/ipykernel_launcher.py:1: SettingWithCopyWarning: \n",
      "A value is trying to be set on a copy of a slice from a DataFrame.\n",
      "Try using .loc[row_indexer,col_indexer] = value instead\n",
      "\n",
      "See the caveats in the documentation: http://pandas.pydata.org/pandas-docs/stable/indexing.html#indexing-view-versus-copy\n",
      "  \"\"\"Entry point for launching an IPython kernel.\n"
     ]
    },
    {
     "data": {
      "image/png": "[encoded data removed]",
      "text/plain": [
       "<Figure size 432x288 with 1 Axes>"
      ]
     },
     "metadata": {},
     "output_type": "display_data"
    },
    {
     "name": "stderr",
     "output_type": "stream",
     "text": [
      "/home/jeesuk/anaconda3/lib/python3.6/site-packages/ipykernel_launcher.py:9: SettingWithCopyWarning: \n",
      "A value is trying to be set on a copy of a slice from a DataFrame.\n",
      "Try using .loc[row_indexer,col_indexer] = value instead\n",
      "\n",
      "See the caveats in the documentation: http://pandas.pydata.org/pandas-docs/stable/indexing.html#indexing-view-versus-copy\n",
      "  if __name__ == '__main__':\n"
     ]
    },
    {
     "data": {
      "image/png": "[encoded data removed]",
      "text/plain": [
       "<Figure size 432x288 with 1 Axes>"
      ]
     },
     "metadata": {},
     "output_type": "display_data"
    }
   ],
   "source": [
    "nfl_eog['home_yards_pd'] = nfl_eog['home_yards_final'] / nfl_eog['home_drives_final']\n",
    "\n",
    "logistic_model = LogisticRegression()\n",
    "logistic_model.fit(nfl_eog[['home_yards_pd']], nfl_eog['home_gw'])\n",
    "home_yards_labels = logistic_model.predict(nfl_eog[['home_yards_pd']])\n",
    "plt.scatter(nfl_eog['home_yards_pd'], home_yards_labels)\n",
    "plt.show()\n",
    "\n",
    "nfl_eog['away_yards_pd'] = nfl_eog['away_yards_final'] / nfl_eog['away_drives_final']\n",
    "\n",
    "logistic_model = LogisticRegression()\n",
    "logistic_model.fit(nfl_eog[['away_yards_pd']], nfl_eog['away_gw'])\n",
    "away_yards_labels = logistic_model.predict(nfl_eog[['away_yards_pd']])\n",
    "plt.scatter(nfl_eog['away_yards_pd'], away_yards_labels)\n",
    "plt.show()"
   ]
  },
  {
   "cell_type": "markdown",
   "metadata": {},
   "source": [
    "# CONCLUSION\n",
    "Looking at the different performance tiers of teams, there is some separation between the good and the bad teams for each offensive efficiency metric. However, in situations when a team has a comfortable lead, the good teams control the ball much more effectively. They do not blow their leads.\n",
    "\n",
    "### Other Things to Explore\n",
    "- How a team that had a comfortable lead performs after they lose it and whether that team ultiamtely wins. A team with a 20-point lead at the start of the 4th quarter may allow the opponent to shrink the margin to 8 points near the end of the game. But at that point, the trailing team's efforts are often \"too little, too late.\" Typically, there is insufficient time for the trailing team to win.\n",
    "- Home field advantage. The plays per drive average of the home team is a very illuminating finding.\n",
    "- Schemes and formations, though that would require a more robust dataset."
   ]
  },
  {
   "cell_type": "code",
   "execution_count": null,
   "metadata": {},
   "outputs": [],
   "source": []
  }
 ],
 "metadata": {
  "kernelspec": {
   "display_name": "Python 3",
   "language": "python",
   "name": "python3"
  },
  "language_info": {
   "codemirror_mode": {
    "name": "ipython",
    "version": 3
   },
   "file_extension": ".py",
   "mimetype": "text/x-python",
   "name": "python",
   "nbconvert_exporter": "python",
   "pygments_lexer": "ipython3",
   "version": "3.6.5"
  }
 },
 "nbformat": 4,
 "nbformat_minor": 2
}

{
 "cells": [
  {
   "cell_type": "markdown",
   "metadata": {},
   "source": [
    "# OVERVIEW\n",
    "In the National Football League, coaches employ a variety of guiding philosophies that they believe are superior, proven pathways to consistent success. These days, much attention has been directed at the explosive offenses of the Los Angeles Rams and the Kansas City Chiefs, two teams who score very quickly while also surrendering a lot of points on defense. Some pundits and NFL veterans argue that this is the future of the league.\n",
    "\n",
    "However, one approach that is getting overlooked is the maximization of \"offensive efficiency.\" For this analysis, we'll define \"offensive efficiency\" as:\n",
    "\n",
    "> <i>\"Scoring the most points possible while prolonging possession of the ball in order to limit the opponent's possession of the ball.\"</i>\n",
    "\n",
    "Teams that are highly offensive efficient therefore demonstrate the following traits:\n",
    "\n",
    "- More plays per drive\n",
    "- More yards per drive\n",
    "- Longer time of possession\n",
    "- And obviously, more points per drive\n",
    "\n",
    "Unlike the Rams and Chiefs, who often score touchdowns on a few large-yardage plays per drive, the 2018 New Orleans Saints rarely registered explosive plays that resulted in 40+ yards gained. Most of their plays were for short and intermediate yard gains that sustained drives that ultimately ended in a score. We'll explore how these metrics of offensive efficiency differ among good teams (12+ regular season wins), OK teams (7 to 11 wins), and bad teams (<7 wins), and whether any trends have emerged over time.\n",
    "\n",
    "## Comfortable Lead and Offensive Efficiency\n",
    "We'll also look at teams of the aforementioned tiers perform once they've established a comfortable lead of 20+ points. Once a team establishes a comfortable lead, they are expected to employ a strategy of \"draining the clock\" by calling more plays that are likely to prevent a play clock stoppage at the conclusion of the play. This is thus time for the leading team to demonstrate greater offensive efficiency.\n",
    "\n",
    "By draining the clock and \"slowing down the game\", the team with the comfortable lead:\n",
    "\n",
    "- Sustains longer offensive drives\n",
    "- Makes the trailing team's defense tired, as the unit is on the field longer\n",
    "- Limits the time the trailing team can play on offense\n",
    "- Allows its defense to rest and remain 'fresh' for when it must take the field"
   ]
  },
  {
   "cell_type": "markdown",
   "metadata": {},
   "source": [
    "# DATA EXPLORATION"
   ]
  },
  {
   "cell_type": "code",
   "execution_count": 1,
   "metadata": {},
   "outputs": [],
   "source": [
    "import pandas as pd\n",
    "import numpy as np\n",
    "from numpy import arange\n",
    "import re\n",
    "import matplotlib.style as style\n",
    "style.use('fivethirtyeight')\n",
    "import matplotlib.pyplot as plt\n",
    "import matplotlib.ticker as ticker\n",
    "from sklearn.linear_model import LogisticRegression\n",
    "import warnings\n",
    "warnings.filterwarnings('ignore')\n",
    "\n",
    "data = pd.read_csv('NFL Play by Play 2009-2018 (v5).csv', low_memory=False)"
   ]
  },
  {
   "cell_type": "markdown",
   "metadata": {},
   "source": [
    "## Selecting Relevant Features"
   ]
  },
  {
   "cell_type": "code",
   "execution_count": 2,
   "metadata": {},
   "outputs": [],
   "source": [
    "data_columns = ['play_id', 'game_id', 'home_team', 'away_team', 'posteam',\n",
    "       'posteam_type', 'game_date', 'game_seconds_remaining', 'game_half',\n",
    "       'drive', 'qtr', 'down', 'desc', 'play_type', 'yards_gained', 'timeout',\n",
    "       'total_home_score', 'total_away_score', 'posteam_score',\n",
    "       'defteam_score', 'score_differential', 'posteam_score_post',\n",
    "       'defteam_score_post', 'score_differential_post', 'third_down_converted',\n",
    "       'fourth_down_converted', 'incomplete_pass', 'interception', 'penalty',\n",
    "       'penalty_team', 'penalty_player_id', 'penalty_player_name',\n",
    "       'penalty_yards', 'replay_or_challenge_result', 'penalty_type']\n",
    "\n",
    "data = data[data_columns]"
   ]
  },
  {
   "cell_type": "code",
   "execution_count": 3,
   "metadata": {},
   "outputs": [
    {
     "name": "stdout",
     "output_type": "stream",
     "text": [
      "(2104, 35)\n"
     ]
    },
    {
     "data": {
      "text/plain": [
       "(2526, 35)"
      ]
     },
     "execution_count": 3,
     "metadata": {},
     "output_type": "execute_result"
    }
   ],
   "source": [
    "end_of_game = data[data['desc'] == 'END GAME']\n",
    "print(end_of_game.shape)\n",
    "\n",
    "# end_of_game.shape shows that only 2104 games contain the 'END GAME' value.\n",
    "end_of_game = data.sort_values('play_id').groupby('game_id').tail(1)\n",
    "\n",
    "# This was the final game played in Week 15, meaning there were 32 games left to be played in the 2018 season\n",
    "#  (16 each in Weeks 16 and 17). 2,560 (10 complete seasons) - 2,526 = 34. This suggests that the dataset is missing 2 games.\n",
    "end_of_game.shape"
   ]
  },
  {
   "cell_type": "markdown",
   "metadata": {},
   "source": [
    "# FEATURE CLEANING\n",
    "\n",
    "To more fully test our hypothesis, we need to create several new features that are currently not captured in the dataset. We'd like to know the following for each team on a cumulative (not per-play) basis:\n",
    "\n",
    "- The number of run plays called\n",
    "- The number of pass plays called\n",
    "- The number of \"chunk yardage\" plays (plays that result in yardage gains of 10 to 25 yards)\n",
    "- Time of possession"
   ]
  },
  {
   "cell_type": "markdown",
   "metadata": {},
   "source": [
    "## Yardage Clean-up"
   ]
  },
  {
   "cell_type": "code",
   "execution_count": 4,
   "metadata": {},
   "outputs": [
    {
     "name": "stdout",
     "output_type": "stream",
     "text": [
      "213\n",
      "449371\n"
     ]
    }
   ],
   "source": [
    "# `yards_gained` is yards accrued on each play for the offensive team.\n",
    "print(data['yards_gained'].isnull().sum())\n",
    "print(len(data))"
   ]
  },
  {
   "cell_type": "code",
   "execution_count": 5,
   "metadata": {},
   "outputs": [
    {
     "data": {
      "text/plain": [
       "0      67 yards\n",
       "1       5 yards\n",
       "2      -3 yards\n",
       "3           NaN\n",
       "4      54 yards\n",
       "5           NaN\n",
       "6       4 yards\n",
       "7      -2 yards\n",
       "8      50 yards\n",
       "9       3 yards\n",
       "10     10 yards\n",
       "11     -1 yards\n",
       "12      9 yards\n",
       "13    -19 yards\n",
       "14     30 yards\n",
       "15     32 yards\n",
       "16     20 yards\n",
       "17      3 yards\n",
       "18          NaN\n",
       "19          NaN\n",
       "Name: desc_yards, dtype: object"
      ]
     },
     "execution_count": 5,
     "metadata": {},
     "output_type": "execute_result"
    }
   ],
   "source": [
    "# Each `desc` string contains numerous numbers referring to time, yards, penalty yards, and other figures.\n",
    "# Should first pull all \"# yard(s)\" references specifically before converting them to numeric values.\n",
    "data['desc_yards'] = data['desc'].str.extract('(-?\\d+\\syards?)')\n",
    "data['desc_yards'].head(20)"
   ]
  },
  {
   "cell_type": "code",
   "execution_count": 6,
   "metadata": {},
   "outputs": [
    {
     "name": "stdout",
     "output_type": "stream",
     "text": [
      "(13:35) (Shotgun) B.Roethlisberger pass incomplete deep right to M.Wallace. COVERAGE BY #24 HOPE\n",
      "(13:16) C.Johnson up the middle to TEN 2 for no gain (B.Keisel, J.Farrior).\n",
      "(6:57) K.Collins pass incomplete short right to A.Crumpler. Coverage by #56 Woodley, #22 Gay.\n",
      "(6:52) (Shotgun) K.Collins pass incomplete short right to B.Scaife (T.Polamalu).\n"
     ]
    }
   ],
   "source": [
    "print(data.loc[3,'desc'])\n",
    "print(data.loc[5,'desc'])\n",
    "print(data.loc[18,'desc'])\n",
    "print(data.loc[19,'desc'])\n",
    "# Null values in the `desc_yards` column can be converted to zero yards. Will do later."
   ]
  },
  {
   "cell_type": "code",
   "execution_count": 7,
   "metadata": {},
   "outputs": [
    {
     "data": {
      "text/html": [
       "<div>\n",
       "<style scoped>\n",
       "    .dataframe tbody tr th:only-of-type {\n",
       "        vertical-align: middle;\n",
       "    }\n",
       "\n",
       "    .dataframe tbody tr th {\n",
       "        vertical-align: top;\n",
       "    }\n",
       "\n",
       "    .dataframe thead th {\n",
       "        text-align: right;\n",
       "    }\n",
       "</style>\n",
       "<table border=\"1\" class=\"dataframe\">\n",
       "  <thead>\n",
       "    <tr style=\"text-align: right;\">\n",
       "      <th></th>\n",
       "      <th>play_id</th>\n",
       "      <th>game_id</th>\n",
       "      <th>home_team</th>\n",
       "      <th>away_team</th>\n",
       "      <th>posteam</th>\n",
       "      <th>posteam_type</th>\n",
       "      <th>game_date</th>\n",
       "      <th>game_seconds_remaining</th>\n",
       "      <th>game_half</th>\n",
       "      <th>drive</th>\n",
       "      <th>...</th>\n",
       "      <th>interception</th>\n",
       "      <th>penalty</th>\n",
       "      <th>penalty_team</th>\n",
       "      <th>penalty_player_id</th>\n",
       "      <th>penalty_player_name</th>\n",
       "      <th>penalty_yards</th>\n",
       "      <th>replay_or_challenge_result</th>\n",
       "      <th>penalty_type</th>\n",
       "      <th>desc_yards</th>\n",
       "      <th>yards_clean</th>\n",
       "    </tr>\n",
       "  </thead>\n",
       "  <tbody>\n",
       "    <tr>\n",
       "      <th>449185</th>\n",
       "      <td>4369</td>\n",
       "      <td>2018121611</td>\n",
       "      <td>LA</td>\n",
       "      <td>PHI</td>\n",
       "      <td>PHI</td>\n",
       "      <td>away</td>\n",
       "      <td>2018-12-16</td>\n",
       "      <td>183.0</td>\n",
       "      <td>Half2</td>\n",
       "      <td>22</td>\n",
       "      <td>...</td>\n",
       "      <td>0.0</td>\n",
       "      <td>0.0</td>\n",
       "      <td>NaN</td>\n",
       "      <td>NaN</td>\n",
       "      <td>NaN</td>\n",
       "      <td>NaN</td>\n",
       "      <td>NaN</td>\n",
       "      <td>NaN</td>\n",
       "      <td>52 yards</td>\n",
       "      <td>52.0</td>\n",
       "    </tr>\n",
       "    <tr>\n",
       "      <th>449220</th>\n",
       "      <td>449</td>\n",
       "      <td>2018121700</td>\n",
       "      <td>CAR</td>\n",
       "      <td>NO</td>\n",
       "      <td>CAR</td>\n",
       "      <td>home</td>\n",
       "      <td>2018-12-17</td>\n",
       "      <td>3146.0</td>\n",
       "      <td>Half1</td>\n",
       "      <td>3</td>\n",
       "      <td>...</td>\n",
       "      <td>0.0</td>\n",
       "      <td>0.0</td>\n",
       "      <td>NaN</td>\n",
       "      <td>NaN</td>\n",
       "      <td>NaN</td>\n",
       "      <td>NaN</td>\n",
       "      <td>NaN</td>\n",
       "      <td>NaN</td>\n",
       "      <td>NaN</td>\n",
       "      <td>NaN</td>\n",
       "    </tr>\n",
       "    <tr>\n",
       "      <th>449293</th>\n",
       "      <td>2210</td>\n",
       "      <td>2018121700</td>\n",
       "      <td>CAR</td>\n",
       "      <td>NO</td>\n",
       "      <td>NO</td>\n",
       "      <td>away</td>\n",
       "      <td>2018-12-17</td>\n",
       "      <td>1712.0</td>\n",
       "      <td>Half2</td>\n",
       "      <td>13</td>\n",
       "      <td>...</td>\n",
       "      <td>0.0</td>\n",
       "      <td>0.0</td>\n",
       "      <td>NaN</td>\n",
       "      <td>NaN</td>\n",
       "      <td>NaN</td>\n",
       "      <td>NaN</td>\n",
       "      <td>NaN</td>\n",
       "      <td>NaN</td>\n",
       "      <td>NaN</td>\n",
       "      <td>NaN</td>\n",
       "    </tr>\n",
       "    <tr>\n",
       "      <th>449303</th>\n",
       "      <td>2490</td>\n",
       "      <td>2018121700</td>\n",
       "      <td>CAR</td>\n",
       "      <td>NO</td>\n",
       "      <td>NO</td>\n",
       "      <td>away</td>\n",
       "      <td>2018-12-17</td>\n",
       "      <td>1563.0</td>\n",
       "      <td>Half2</td>\n",
       "      <td>15</td>\n",
       "      <td>...</td>\n",
       "      <td>0.0</td>\n",
       "      <td>0.0</td>\n",
       "      <td>NaN</td>\n",
       "      <td>NaN</td>\n",
       "      <td>NaN</td>\n",
       "      <td>NaN</td>\n",
       "      <td>NaN</td>\n",
       "      <td>NaN</td>\n",
       "      <td>NaN</td>\n",
       "      <td>NaN</td>\n",
       "    </tr>\n",
       "    <tr>\n",
       "      <th>449318</th>\n",
       "      <td>2861</td>\n",
       "      <td>2018121700</td>\n",
       "      <td>CAR</td>\n",
       "      <td>NO</td>\n",
       "      <td>CAR</td>\n",
       "      <td>home</td>\n",
       "      <td>2018-12-17</td>\n",
       "      <td>1115.0</td>\n",
       "      <td>Half2</td>\n",
       "      <td>16</td>\n",
       "      <td>...</td>\n",
       "      <td>0.0</td>\n",
       "      <td>0.0</td>\n",
       "      <td>NaN</td>\n",
       "      <td>NaN</td>\n",
       "      <td>NaN</td>\n",
       "      <td>NaN</td>\n",
       "      <td>NaN</td>\n",
       "      <td>NaN</td>\n",
       "      <td>22 yards</td>\n",
       "      <td>22.0</td>\n",
       "    </tr>\n",
       "  </tbody>\n",
       "</table>\n",
       "<p>5 rows × 37 columns</p>\n",
       "</div>"
      ],
      "text/plain": [
       "        play_id     game_id home_team away_team posteam posteam_type  \\\n",
       "449185     4369  2018121611        LA       PHI     PHI         away   \n",
       "449220      449  2018121700       CAR        NO     CAR         home   \n",
       "449293     2210  2018121700       CAR        NO      NO         away   \n",
       "449303     2490  2018121700       CAR        NO      NO         away   \n",
       "449318     2861  2018121700       CAR        NO     CAR         home   \n",
       "\n",
       "         game_date  game_seconds_remaining game_half  drive  ...  \\\n",
       "449185  2018-12-16                   183.0     Half2     22  ...   \n",
       "449220  2018-12-17                  3146.0     Half1      3  ...   \n",
       "449293  2018-12-17                  1712.0     Half2     13  ...   \n",
       "449303  2018-12-17                  1563.0     Half2     15  ...   \n",
       "449318  2018-12-17                  1115.0     Half2     16  ...   \n",
       "\n",
       "        interception  penalty penalty_team penalty_player_id  \\\n",
       "449185           0.0      0.0          NaN               NaN   \n",
       "449220           0.0      0.0          NaN               NaN   \n",
       "449293           0.0      0.0          NaN               NaN   \n",
       "449303           0.0      0.0          NaN               NaN   \n",
       "449318           0.0      0.0          NaN               NaN   \n",
       "\n",
       "        penalty_player_name  penalty_yards  replay_or_challenge_result  \\\n",
       "449185                  NaN            NaN                         NaN   \n",
       "449220                  NaN            NaN                         NaN   \n",
       "449293                  NaN            NaN                         NaN   \n",
       "449303                  NaN            NaN                         NaN   \n",
       "449318                  NaN            NaN                         NaN   \n",
       "\n",
       "        penalty_type  desc_yards  yards_clean  \n",
       "449185           NaN    52 yards         52.0  \n",
       "449220           NaN         NaN          NaN  \n",
       "449293           NaN         NaN          NaN  \n",
       "449303           NaN         NaN          NaN  \n",
       "449318           NaN    22 yards         22.0  \n",
       "\n",
       "[5 rows x 37 columns]"
      ]
     },
     "execution_count": 7,
     "metadata": {},
     "output_type": "execute_result"
    }
   ],
   "source": [
    "#  Creates a column that pulls the numeric yardage value from `desc_yards`.\n",
    "data['yards_clean'] = data['desc_yards'].str.extract('(-?\\d+)').astype(float)\n",
    "no_gain = data[data['desc'].str.contains(\"no gain\", na=False)]\n",
    "no_gain.tail()"
   ]
  },
  {
   "cell_type": "code",
   "execution_count": 8,
   "metadata": {},
   "outputs": [
    {
     "name": "stdout",
     "output_type": "stream",
     "text": [
      "(3:35) D.Moore up the middle to NO 28 for 22 yards (V.Bell). FUMBLES (V.Bell), RECOVERED by NO-A.Klein at NO 16. A.Klein to NO 16 for no gain (C.Samuel).\n",
      "22.0\n"
     ]
    }
   ],
   "source": [
    "print(data.loc[449318,'desc'])\n",
    "print(data.loc[449318,'yards_clean'])\n",
    "# CAR is correctly credited with a 22-yard gain before DJ Moore fumbled the ball."
   ]
  },
  {
   "cell_type": "markdown",
   "metadata": {},
   "source": [
    "## Non-offensive Plays"
   ]
  },
  {
   "cell_type": "code",
   "execution_count": 9,
   "metadata": {},
   "outputs": [],
   "source": [
    "# Place kicks and punts have a `desc` string that references \"# yards\" that should not count toward total offensive yards.\n",
    "play_type_filters = ['punt', 'no_play', 'kickoff', 'extra_point', 'field_goal']\n",
    "\n",
    "for ptf in play_type_filters:\n",
    "    data.loc[data['play_type'] == ptf, 'yards_clean'] = 0"
   ]
  },
  {
   "cell_type": "markdown",
   "metadata": {},
   "source": [
    "## Incomplete Passes"
   ]
  },
  {
   "cell_type": "code",
   "execution_count": 10,
   "metadata": {},
   "outputs": [
    {
     "data": {
      "text/html": [
       "<div>\n",
       "<style scoped>\n",
       "    .dataframe tbody tr th:only-of-type {\n",
       "        vertical-align: middle;\n",
       "    }\n",
       "\n",
       "    .dataframe tbody tr th {\n",
       "        vertical-align: top;\n",
       "    }\n",
       "\n",
       "    .dataframe thead th {\n",
       "        text-align: right;\n",
       "    }\n",
       "</style>\n",
       "<table border=\"1\" class=\"dataframe\">\n",
       "  <thead>\n",
       "    <tr style=\"text-align: right;\">\n",
       "      <th></th>\n",
       "      <th>game_id</th>\n",
       "      <th>desc</th>\n",
       "    </tr>\n",
       "  </thead>\n",
       "  <tbody>\n",
       "    <tr>\n",
       "      <th>488</th>\n",
       "      <td>2009091307</td>\n",
       "      <td>(2:19) M.Stafford pass short left to B.Johnson...</td>\n",
       "    </tr>\n",
       "    <tr>\n",
       "      <th>2634</th>\n",
       "      <td>2009091401</td>\n",
       "      <td>(:50) (Shotgun) J.Russell pass deep middle to ...</td>\n",
       "    </tr>\n",
       "    <tr>\n",
       "      <th>2761</th>\n",
       "      <td>2009092000</td>\n",
       "      <td>(7:42) (Shotgun) M.Ryan pass short middle to R...</td>\n",
       "    </tr>\n",
       "    <tr>\n",
       "      <th>2855</th>\n",
       "      <td>2009092000</td>\n",
       "      <td>(5:41) J.Delhomme pass short right to J.King t...</td>\n",
       "    </tr>\n",
       "    <tr>\n",
       "      <th>3729</th>\n",
       "      <td>2009092005</td>\n",
       "      <td>(8:38) M.Sanchez pass short right to C.Stuckey...</td>\n",
       "    </tr>\n",
       "    <tr>\n",
       "      <th>5330</th>\n",
       "      <td>2009092014</td>\n",
       "      <td>(:12) (Shotgun) T.Romo pass incomplete deep le...</td>\n",
       "    </tr>\n",
       "    <tr>\n",
       "      <th>5499</th>\n",
       "      <td>2009092100</td>\n",
       "      <td>(:14) (No Huddle, Shotgun) P.Manning pass shor...</td>\n",
       "    </tr>\n",
       "    <tr>\n",
       "      <th>7893</th>\n",
       "      <td>2009092712</td>\n",
       "      <td>(:05) (No Huddle, Shotgun) J.Russell pass deep...</td>\n",
       "    </tr>\n",
       "    <tr>\n",
       "      <th>8279</th>\n",
       "      <td>2009092800</td>\n",
       "      <td>(12:15) T.Romo pass incomplete short left to R...</td>\n",
       "    </tr>\n",
       "    <tr>\n",
       "      <th>8280</th>\n",
       "      <td>2009092800</td>\n",
       "      <td>(12:11) T.Romo pass incomplete short left to M...</td>\n",
       "    </tr>\n",
       "  </tbody>\n",
       "</table>\n",
       "</div>"
      ],
      "text/plain": [
       "         game_id                                               desc\n",
       "488   2009091307  (2:19) M.Stafford pass short left to B.Johnson...\n",
       "2634  2009091401  (:50) (Shotgun) J.Russell pass deep middle to ...\n",
       "2761  2009092000  (7:42) (Shotgun) M.Ryan pass short middle to R...\n",
       "2855  2009092000  (5:41) J.Delhomme pass short right to J.King t...\n",
       "3729  2009092005  (8:38) M.Sanchez pass short right to C.Stuckey...\n",
       "5330  2009092014  (:12) (Shotgun) T.Romo pass incomplete deep le...\n",
       "5499  2009092100  (:14) (No Huddle, Shotgun) P.Manning pass shor...\n",
       "7893  2009092712  (:05) (No Huddle, Shotgun) J.Russell pass deep...\n",
       "8279  2009092800  (12:15) T.Romo pass incomplete short left to R...\n",
       "8280  2009092800  (12:11) T.Romo pass incomplete short left to M..."
      ]
     },
     "execution_count": 10,
     "metadata": {},
     "output_type": "execute_result"
    }
   ],
   "source": [
    "data[(data['incomplete_pass'] == 1) & (data['yards_clean']>0)][['game_id','desc']].head(10)"
   ]
  },
  {
   "cell_type": "code",
   "execution_count": 11,
   "metadata": {},
   "outputs": [
    {
     "name": "stdout",
     "output_type": "stream",
     "text": [
      "(2:19) M.Stafford pass short left to B.Johnson ran ob at DET 46 for 11 yards. New Orleans challenged the pass completion ruling, and the play was REVERSED. M.Stafford pass incomplete short left to B.Johnson.\n",
      "(13:14) (Shotgun) J.Cutler pass incomplete short right to D.Hester [N.Eason]. PENALTY on CHI-J.Cutler, Intentional Grounding, 10 yards, enforced at CHI 37.\n"
     ]
    }
   ],
   "source": [
    "print(data.loc[488,'desc'])\n",
    "print(data.loc[5160,'desc'])"
   ]
  },
  {
   "cell_type": "markdown",
   "metadata": {},
   "source": [
    "Positive-yardage plays that are negated via successful challenges and penalties are incorrectly generating yardage gains in `yards_clean`.\n",
    "\n",
    "## Plays Reversed by Successful Challenges"
   ]
  },
  {
   "cell_type": "code",
   "execution_count": 12,
   "metadata": {},
   "outputs": [],
   "source": [
    "data.loc[data.replay_or_challenge_result=='reversed', 'yards_clean'] = data['yards_gained']"
   ]
  },
  {
   "cell_type": "markdown",
   "metadata": {},
   "source": [
    "## Interceptions"
   ]
  },
  {
   "cell_type": "code",
   "execution_count": 13,
   "metadata": {
    "scrolled": true
   },
   "outputs": [
    {
     "name": "stdout",
     "output_type": "stream",
     "text": [
      "31     16.0\n",
      "34      NaN\n",
      "89     80.0\n",
      "272     NaN\n",
      "404    26.0\n",
      "Name: yards_clean, dtype: float64\n",
      "\n",
      "(1:51) K.Collins pass deep left intended for K.Britt INTERCEPTED by T.Polamalu at PIT 5. T.Polamalu to PIT 21 for 16 yards (A.Hall).\n",
      "(:01) (Shotgun) B.Roethlisberger pass deep middle intended for M.Wallace INTERCEPTED by C.Finnegan at TEN 0. C.Finnegan to PIT 20 for 80 yards (M.Starks; H.Miller).\n"
     ]
    }
   ],
   "source": [
    "print(data[data['interception'] == 1]['yards_clean'].head())\n",
    "print()\n",
    "print(data.loc[31,'desc'])\n",
    "print(data.loc[89,'desc'])"
   ]
  },
  {
   "cell_type": "code",
   "execution_count": 14,
   "metadata": {},
   "outputs": [],
   "source": [
    "# The yardage gains on these interceptions are being credited to the offensive team, but they should refer to the yards\n",
    "# accrued by the intercepting defender.\n",
    "pass_plays = ['incomplete_pass','interception']\n",
    "\n",
    "for play in pass_plays:\n",
    "    data.loc[data[play] == 1, 'yards_clean'] = 0"
   ]
  },
  {
   "cell_type": "markdown",
   "metadata": {},
   "source": [
    "## Penalties"
   ]
  },
  {
   "cell_type": "code",
   "execution_count": 15,
   "metadata": {},
   "outputs": [],
   "source": [
    "# Cleaning up yardage gains that are nullified by penalties.\n",
    "\n",
    "penalties = ['False Start', 'Defensive Pass Interference', 'Defensive Holding',\n",
    "             'Defensive Offside', 'Delay of Game', 'Illegal Block Above the Waist',\n",
    "             'Neutral Zone Infraction', 'Roughing the Passer', 'Illegal Use of Hands',\n",
    "             'Offensive Pass Interference', 'Illegal Contact', 'Encroachment', 'Illegal Formation',\n",
    "             'Intentional Grounding', 'Illegal Shift', 'Offside on Free Kick', 'Horse Collar Tackle',\n",
    "             'Ineligible Downfield Pass', 'Illegal Motion', 'Illegal Substitution', 'Chop Block',\n",
    "             'Ineligible Downfield Kick', 'Player Out of Bounds on Punt', 'Tripping',\n",
    "             'Running Into the Kicker', 'Illegal Forward Pass', 'Illegal Touch Kick',\n",
    "             'Illegal Touch Pass', 'Illegal Blindside Block', 'Fair Catch Interference', 'Low Block',\n",
    "             'Clipping', 'Roughing the Kicker', 'Disqualification', 'Offensive Offside',\n",
    "             'Interference with Opportunity to Catch', 'Defensive Too Many Men on Field', 'Leverage',\n",
    "             'Defensive Delay of Game', 'Illegal Crackback', 'Invalid Fair Catch Signal',\n",
    "             'Leaping', 'Illegal Wedge', 'Illegal Bat', 'Player Out of Bounds on Kick',\n",
    "             'Offensive Too Many Men on Field', 'Illegal Peelback', 'Kick Catch Interference',\n",
    "             'Illegal Receiver Pass', 'Illegal Kick', 'Short Free Kick', 'Kickoff Out of Bounds',\n",
    "             'Delay of Kickoff', 'Illegal Onside Kick', 'Illegal Cut', 'Illegally Kicking Ball',\n",
    "             'Illegal Procedure']\n",
    "\n",
    "for penalty in penalties:\n",
    "    data.loc[(data['penalty_team'] == data['posteam']) & \n",
    "             (data['penalty_type']==penalty), 'yards_clean'] = 0"
   ]
  },
  {
   "cell_type": "markdown",
   "metadata": {},
   "source": [
    "## Offensive Holding"
   ]
  },
  {
   "cell_type": "code",
   "execution_count": 16,
   "metadata": {},
   "outputs": [],
   "source": [
    "# Positive yards and a holding call --> 10-yard penalty from spot of foul.\n",
    "# Zero or negative yards and a holding call --> 10-yard penalty from line of scrimmage.\n",
    "\n",
    "data.loc[(data['penalty_team'] == data['posteam']) & (data['penalty_type']=='Offensive Holding') & \n",
    "         (data['yards_gained'] < 0), 'yards_clean'] = 0\n",
    "\n",
    "data.loc[data['yards_clean'].isnull(), 'yards_clean'] = 0"
   ]
  },
  {
   "cell_type": "markdown",
   "metadata": {},
   "source": [
    "## Team Name Changes"
   ]
  },
  {
   "cell_type": "code",
   "execution_count": 17,
   "metadata": {},
   "outputs": [],
   "source": [
    "# All columns in the dataframe that contain a team abbreviation.\n",
    "team_types = ['home_team', 'away_team', 'posteam', 'penalty_team']\n",
    "\n",
    "for tt in team_types:\n",
    "    data.loc[data[tt] == 'STL', tt] = 'LA'\n",
    "    data.loc[data[tt] == 'SD', tt] = 'LAC'\n",
    "    data.loc[data[tt] == 'JAC', tt] = 'JAX'"
   ]
  },
  {
   "cell_type": "markdown",
   "metadata": {},
   "source": [
    "## Timeouts"
   ]
  },
  {
   "cell_type": "code",
   "execution_count": 18,
   "metadata": {},
   "outputs": [],
   "source": [
    "# Eliminates all rows with a called timeout. The team that calls a timeout is designated as the `posteam`. This is inaccurate.\n",
    "data = data[data.timeout != 1]"
   ]
  },
  {
   "cell_type": "markdown",
   "metadata": {},
   "source": [
    "# FEATURE ENGINEERING\n",
    "\n",
    "## Functions - Score, Plays"
   ]
  },
  {
   "cell_type": "code",
   "execution_count": 19,
   "metadata": {},
   "outputs": [],
   "source": [
    "data.rename(columns={'total_home_score' : 'home_score_total'}, inplace=True)\n",
    "data.rename(columns={'total_away_score' : 'away_score_total'}, inplace=True)\n",
    "\n",
    "# Creates final scores for each game. The final score is displayed for each game, regardless of the play.\n",
    "# For example, a game ending in a score of 27 to 10 will display these values in the row corresponding the opening kick-off,\n",
    "# which is the first play of the game.\n",
    "def process_score(df):\n",
    "    types = ['home','away']\n",
    "    for team in types:\n",
    "        df[team + '_score_final'] = df[team + '_score_total'].groupby(df['game_id']).transform('max')\n",
    "    df['score_diff'] = df[types[0] + '_score_total'] - df[types[1] + '_score_total']\n",
    "# A comfortable lead is a lead greater than or equal to 20 points.\n",
    "    df[types[0] + '_comfy_lead'] = np.where(df['score_diff']>= 20, 1, 0)\n",
    "    df[types[1] + '_comfy_lead'] = np.where(df['score_diff']<= -20, 1, 0)\n",
    "    return df\n",
    "\n",
    "# Creates a new binary column that counts pass plays with 1s and 0s.\n",
    "# Creates a new column that displays the final tally of pass plays for each game, regardless of the play.\n",
    "def process_pass(df):\n",
    "    types = ['home','away']\n",
    "    for team in types:\n",
    "        df[team + '_passes'] = np.where( ((df['posteam_type']==team) & (df['play_type']=='pass')), 1, 0)\n",
    "        df[team + '_passes_final'] = df[team + '_passes'].groupby(df['game_id']).transform('sum')\n",
    "    return df\n",
    "\n",
    "# Creates a new binary column that counts run plays with 1s and 0s.\n",
    "# Creates a new column that displays the final tally of run plays for each game, regardless of the play.\n",
    "def process_run(df):\n",
    "    types = ['home','away']\n",
    "    for team in types:\n",
    "        df[team + '_runs'] = np.where( (df['posteam_type']==team) & (df['play_type']=='run'), 1, 0)\n",
    "        df[team + '_runs_final'] = df[team + '_runs'].groupby(df['game_id']).transform('sum')\n",
    "    return df\n",
    "\n",
    "# Creates a new column that counts offensive yards accrued per play.\n",
    "# Creates a new column that displays the final tally of offensive yards for each game, regardless of the play.\n",
    "# Creates a new column that displays the final tally of offensive yards for each game, if/when the team had a comfy lead.\n",
    "# Creates a new column that displays the final tally of offensive yards for each game, when the team did NOT have a comfy lead.\n",
    "def process_yards(df):\n",
    "    types = ['home','away']\n",
    "    for team in types:\n",
    "        df[team + '_yards'] = np.where( (df['posteam_type']==team), df['yards_clean'], 0)\n",
    "        df[team + '_yards_final'] = df[team + '_yards'].groupby(df['game_id']).transform('sum')\n",
    "        df[team + '_yards_wcl'] = np.where( (df['posteam_type']==team) & (df[team + '_comfy_lead']==1), df['yards_clean'], 0)\n",
    "        df[team + '_yards_wcl_final'] = df[team + '_yards_wcl'].groupby(df['game_id']).transform('sum')\n",
    "        df[team + '_yards_wcl_final'] = df.groupby(df['game_id'])[team + '_yards_wcl_final'].apply(lambda x: x.fillna(x.mean()))\n",
    "        df[team + '_yards_wcl_final'] = df.groupby(df['game_id'])[team + '_yards_wcl_final'].apply(lambda x: x.fillna(0))\n",
    "        df[team + '_yards_wocl_final'] = df[team + '_yards_final'] - df[team + '_yards_wcl_final']\n",
    "    return df\n",
    "\n",
    "# Creates a new column that counts offensive plays.\n",
    "# Creates a new column that displays the final tally of offensive plays for each game.\n",
    "# Creates a new column that displays the final tally of offensive plays for each game, if/when the team had a comfy lead.\n",
    "# Creates a new column that displays the final tally of offensive plays for each game, when the team did NOT have a comfy lead.\n",
    "def combined_plays(df):\n",
    "    types = ['home','away']\n",
    "    for team in types:\n",
    "        df[team + '_combined_plays'] = np.where( (df['posteam_type']==team) & ((df['play_type']=='pass') | (df['play_type']=='run')), 1, 0)\n",
    "        df[team + '_combined_plays_final'] = df[team + '_combined_plays'].groupby(df['game_id']).transform('sum')\n",
    "        df[team + '_run_%_final'] = df[team + '_runs_final'] / df[team + '_combined_plays_final']\n",
    "        df[team + '_combined_plays_wcl'] = np.where( (df['posteam_type']==team) & (df[team + '_comfy_lead'] == 1) & \n",
    "                                                ( (df['play_type']=='run') | (df['play_type']=='pass') ), 1, 0)\n",
    "        df[team + '_combined_plays_wcl_final'] = df[team + '_combined_plays_wcl'].groupby(df['game_id']).transform('sum')\n",
    "        df[team + '_combined_plays_wcl_final'] = df.groupby(df['game_id'])[team + '_combined_plays_wcl_final'].apply(lambda x: x.fillna(x.mean()))\n",
    "        df[team + '_combined_plays_wcl_final'] = df.groupby(df['game_id'])[team + '_combined_plays_wcl_final'].apply(lambda x: x.fillna(0))\n",
    "        df[team + '_combined_plays_wocl_final'] = df[team + '_combined_plays_final'] - df[team + '_combined_plays_wcl_final']\n",
    "    return df"
   ]
  },
  {
   "cell_type": "markdown",
   "metadata": {},
   "source": [
    "## Functions - Time of Possession, Drives"
   ]
  },
  {
   "cell_type": "code",
   "execution_count": 20,
   "metadata": {},
   "outputs": [],
   "source": [
    "# Creates a new column that counts offensive drives (or team possessions of the ball).\n",
    "# Creates a new column that displays the final tally of drives for each game.\n",
    "# Creates a new column that displays the final tally of drives for each game, if/when the team had a comfy lead.\n",
    "# Creates a new column that displays the final tally of drives for each game, when the team did NOT have a comfy lead.\n",
    "\n",
    "def process_drives(df):\n",
    "    types = ['home','away']\n",
    "    for team in types:\n",
    "        df[team + '_drive_unique'] = df.where(df.posteam_type == team).groupby(['drive']).ngroup() + 1\n",
    "        df[team + '_drives_final'] = df[df['posteam_type']==team].groupby(df['game_id'])['drive'].transform('nunique')\n",
    "        df[team + '_drives_final'] = df.groupby(df['game_id'])[team + '_drives_final'].apply(lambda x: x.fillna(x.mean()))\n",
    "        df[team + '_drive_wcl'] = df.where( (df.posteam_type == team) & \n",
    "                                                 (df[team + '_comfy_lead'] == 1) ).groupby('drive').ngroup() + 1\n",
    "        df[team + '_drives_wcl_final'] = df[(df['posteam_type']==team) &\n",
    "                                          (df[team + '_comfy_lead']==1)].groupby(df['game_id'])['drive'].transform('nunique')\n",
    "        df[team + '_drives_wcl_final'] = df.groupby(df['game_id'])[team + '_drives_wcl_final'].apply(lambda x: x.fillna(x.mean()))\n",
    "        df[team + '_drives_wcl_final'] = df.groupby(df['game_id'])[team + '_drives_wcl_final'].apply(lambda x: x.fillna(0))\n",
    "        df[team + '_drives_wocl_final'] = df[team + '_drives_final'] - df[team + '_drives_wcl_final']\n",
    "    return df\n",
    "\n",
    "# Creates a new column that counts time of possession (TOP, how many game clock seconds the team controls the ball).\n",
    "# Creates a new column that displays the final total TOP for each game.\n",
    "# Creates a new column that displays the final total TOP for each game, if/when the team had a comfy lead.\n",
    "# Creates a new column that displays the final total TOP for each game, when the team did NOT have a comfy lead.\n",
    "def process_TOP(df):\n",
    "    types = ['home','away']\n",
    "    for team in types:\n",
    "        df[team + '_TOP'] = np.where( ( (df['posteam_type']==team) & (df['qtr']<5) ) |\n",
    "                                ( (df['posteam_type']==team) & (df['qtr']==5) & \n",
    "                                 (df['game_seconds_remaining'].shift(1) >= df['game_seconds_remaining']) ), \n",
    "                                df.groupby(df['game_id']).game_seconds_remaining.diff().astype(float)*(-1), 0)\n",
    "        df[team + '_TOP_final'] = df[team + '_TOP'].groupby(df['game_id']).transform('sum')\n",
    "        \n",
    "        df[team + '_TOP_wcl'] = np.where( ( (df['posteam_type']==team) & (df[team + '_comfy_lead'] == 1) & (df['qtr']<5) ) |\n",
    "                                ( (df['posteam_type']==team) & (df[team + '_comfy_lead'] == 1) & (df['qtr']==5) & \n",
    "                                 (df['game_seconds_remaining'].shift(1) >= df['game_seconds_remaining']) ), \n",
    "                                df.groupby(df['game_id']).game_seconds_remaining.diff().astype(float)*(-1), 0)\n",
    "        df[team + '_TOP_wcl_final'] = df[team + '_TOP_wcl'].groupby(df['game_id']).transform('sum')\n",
    "        df[team + '_TOP_wocl'] = np.where( ( (df['posteam_type']==team) & (df[team + '_comfy_lead'] == 0) & (df['qtr']<5) ) |\n",
    "                                ( (df['posteam_type']==team) & (df[team + '_comfy_lead'] == 1) & (df['qtr']==5) & \n",
    "                                 (df['game_seconds_remaining'].shift(1) >= df['game_seconds_remaining']) ), \n",
    "                                df.groupby(df['game_id']).game_seconds_remaining.diff().astype(float)*(-1), 0)\n",
    "        df[team + '_TOP_wocl_final'] = df[team + '_TOP_wocl'].groupby(df['game_id']).transform('sum')\n",
    "    return df\n",
    "\n",
    "pd.set_option('display.max_rows', 500)"
   ]
  },
  {
   "cell_type": "markdown",
   "metadata": {},
   "source": [
    "## Function Run"
   ]
  },
  {
   "cell_type": "code",
   "execution_count": 21,
   "metadata": {},
   "outputs": [],
   "source": [
    "data = process_score(data)\n",
    "data = process_pass(data)\n",
    "data = process_run(data)\n",
    "data = process_yards(data)\n",
    "data = combined_plays(data)\n",
    "data = process_drives(data)\n",
    "data = process_TOP(data)"
   ]
  },
  {
   "cell_type": "markdown",
   "metadata": {},
   "source": [
    "## Functions - Wins"
   ]
  },
  {
   "cell_type": "code",
   "execution_count": 22,
   "metadata": {
    "scrolled": true
   },
   "outputs": [],
   "source": [
    "data['game_winner'] = np.where(data['home_score_final'] > data['away_score_final'], data['home_team'],\n",
    "                             np.where(data['home_score_final'] < data['away_score_final'], data['away_team'], 'Tie'))\n",
    "def process_game_winner(df):\n",
    "    types = ['home','away']\n",
    "    for team in types:\n",
    "        data[team + '_gw'] = np.where( data['game_winner']==data[team + '_team'],1,0)\n",
    "    return df\n",
    "\n",
    "data = process_game_winner(data)"
   ]
  },
  {
   "cell_type": "markdown",
   "metadata": {},
   "source": [
    "## Team Strata\n",
    "In the years available in this dataset, no team that's recorded 11 regular season wins has failed to reach the playoffs. We will therefore consider teams that reach this threshold \"good teams.\" While teams that win fewer games have made the playoffs, they have generally been plagued by execution issues, coaching incompetence, injuries, and off-field distractions that render them inconsistent. We'll split the teams into tiers as follows:\n",
    "\n",
    "- Good Teams: 12+ regular season wins\n",
    "- OK Teams: 7 to 10 regular season wins\n",
    "- Bad Teams: 0 to 6 regular season wins"
   ]
  },
  {
   "cell_type": "code",
   "execution_count": 23,
   "metadata": {},
   "outputs": [],
   "source": [
    "# Creates a season column, which is effectively the year the regular season started.\n",
    "data['season'] = data['game_id'].astype(str).str[:4]\n",
    "data['season'] = data['season'].astype(int)\n",
    "\n",
    "# Designates early January regular season games as part of the season corresponding to the previous calendar year.\n",
    "# For example, a January 1st, 2017 game should be designated as part of the 2016 season, not the 2017 season.\n",
    "data.loc[data['game_date'].astype(str).str[5:7]==\n",
    "         '01','season'] = data.loc[data['game_date'].astype(str).str[5:7]=='01','season'] - 1\n",
    "\n",
    "# Since we will rely on final total values, we can limit each game_id to just one row each.\n",
    "EOG = data.sort_values('play_id').groupby('game_id').apply(lambda x : x.index[-1])\n",
    "data['EOG'] = 0\n",
    "data.loc[EOG, 'EOG'] = 1\n",
    "\n",
    "data['team_season_wins'] = data.groupby(['season','game_winner'])['EOG'].transform('sum')\n",
    "\n",
    "# Breaks down the teams into performance tiers.\n",
    "data['good_team'] = np.where( data.team_season_wins >= 12, 1, 0)\n",
    "data['ok_team'] = np.where( (data.team_season_wins <= 11) & (data.team_season_wins >= 7), 1, 0)\n",
    "data['bad_team'] = np.where( data.team_season_wins <= 6, 1, 0)"
   ]
  },
  {
   "cell_type": "markdown",
   "metadata": {},
   "source": [
    "# NEW DATAFRAME"
   ]
  },
  {
   "cell_type": "code",
   "execution_count": 24,
   "metadata": {},
   "outputs": [],
   "source": [
    "features = ['season', 'play_id', 'game_id', 'home_team', 'away_team', 'posteam',\n",
    "            'posteam_type', 'desc',\n",
    "            'home_score_total', 'away_score_total', 'score_diff', 'home_comfy_lead','away_comfy_lead',\n",
    "            'home_score_final', 'away_score_final', 'EOG','game_winner',\n",
    "            'home_gw', 'away_gw','team_season_wins','good_team', 'ok_team', 'bad_team',\n",
    "            'yards_clean',\n",
    "            'home_yards_final', 'home_yards_wcl_final', 'home_yards_wocl_final',\n",
    "            'away_yards_final', 'away_yards_wcl_final', 'away_yards_wocl_final',\n",
    "            'home_passes', 'away_passes', 'home_runs', 'away_runs',\n",
    "            'home_combined_plays', 'home_combined_plays_final',\n",
    "            'home_combined_plays_wcl_final','home_combined_plays_wocl_final','home_run_%_final',\n",
    "            'away_combined_plays', 'away_combined_plays_final',\n",
    "            'away_combined_plays_wcl_final','away_combined_plays_wocl_final', 'away_run_%_final',\n",
    "            'drive',\n",
    "            'home_drive_unique','home_drives_final','home_drives_wcl_final', 'home_drives_wocl_final',\n",
    "            'away_drive_unique','away_drives_final', 'away_drives_wcl_final', 'away_drives_wocl_final',\n",
    "            'home_TOP','home_TOP_final', 'home_TOP_wcl_final', 'home_TOP_wocl_final',\n",
    "            'away_TOP','away_TOP_final', 'away_TOP_wcl_final', 'away_TOP_wocl_final'\n",
    "            ]\n",
    "\n",
    "nfl = data[features]\n",
    "\n",
    "pd.set_option('display.max_columns', 100)"
   ]
  },
  {
   "cell_type": "markdown",
   "metadata": {},
   "source": [
    "## Game Result and Season Wins Errors"
   ]
  },
  {
   "cell_type": "code",
   "execution_count": 25,
   "metadata": {},
   "outputs": [],
   "source": [
    "nfl.loc[nfl['game_id']==2010092700, 'game_winner'] = 'CHI'\n",
    "nfl.loc[nfl['game_id']==2010122500, 'game_winner'] = 'ARI'\n",
    "nfl.loc[nfl['game_id']==2013120806, 'game_winner'] = 'MIA'\n",
    "nfl.loc[nfl['game_id']==2013122900, 'game_winner'] = 'CAR'\n",
    "nfl.loc[nfl['game_id']==2014113004, 'game_winner'] = 'JAX'\n",
    "nfl.loc[nfl['game_id']==2015120602, 'game_winner'] = 'MIA'\n",
    "nfl.loc[nfl['game_id']==2016120400, 'game_winner'] = 'KC'\n",
    "nfl.loc[nfl['game_id']==2016111303, 'game_winner'] = 'DEN'\n",
    "nfl.loc[nfl['game_id']==2017010109, 'game_winner'] = 'TB'\n",
    "nfl.loc[nfl['game_id']==2017102902, 'game_winner'] = 'CIN'\n",
    "\n",
    "\n",
    "nfl.loc[(nfl.game_winner == 'NYG') & (nfl.season==2012), 'team_season_wins'] = 9\n",
    "nfl.loc[(nfl.game_winner == 'NYG') & (nfl.season==2016), 'team_season_wins'] = 11"
   ]
  },
  {
   "cell_type": "markdown",
   "metadata": {},
   "source": [
    "# VISUALIZATIONS"
   ]
  },
  {
   "cell_type": "code",
   "execution_count": 26,
   "metadata": {},
   "outputs": [],
   "source": [
    "# Team strata Boolean filters\n",
    "good = nfl[(nfl['good_team']==1) & (nfl['season']<2019)][features]\n",
    "ok = nfl[(nfl['ok_team']==1) & (nfl['season']<2019)][features]\n",
    "bad = nfl[(nfl['bad_team']==1) & (nfl['season']<2019)][features]"
   ]
  },
  {
   "cell_type": "markdown",
   "metadata": {},
   "source": [
    "## Running Plays"
   ]
  },
  {
   "cell_type": "code",
   "execution_count": 27,
   "metadata": {
    "scrolled": false
   },
   "outputs": [
    {
     "data": {
      "image/png": "[encoded data removed]",
      "text/plain": [
       "<Figure size 720x360 with 1 Axes>"
      ]
     },
     "metadata": {},
     "output_type": "display_data"
    },
    {
     "data": {
      "image/png": "[encoded data removed]",
      "text/plain": [
       "<Figure size 720x360 with 1 Axes>"
      ]
     },
     "metadata": {},
     "output_type": "display_data"
    }
   ],
   "source": [
    "# Ommitting 2018 because we do not have a full season's worth of data for it.\n",
    "seasons = [2009, 2010, 2011, 2012, 2013, 2014, 2015, 2016, 2017, 2018]\n",
    "\n",
    "# Run plays as % of total plays general formula\n",
    "def run_play_breakdown(df, comfy_lead):\n",
    "    team_list = []\n",
    "    for season in seasons:\n",
    "        home_runs = df.loc[(df.season == season) & (df.home_comfy_lead == comfy_lead), 'home_runs'].sum()\n",
    "        away_runs = df.loc[(df.season == season) & (df.away_comfy_lead == comfy_lead), 'away_runs'].sum()\n",
    "        home_passes = df.loc[(df.season == season) & (df.home_comfy_lead == comfy_lead), 'home_passes'].sum()\n",
    "        away_passes = df.loc[(df.season == season) & (df.away_comfy_lead == comfy_lead), 'away_passes'].sum()\n",
    "        total_runs = home_runs + away_runs\n",
    "        total_plays = home_runs + away_runs + home_passes + away_passes\n",
    "        total_run_perc = total_runs / total_plays * 100\n",
    "        team_list.append(total_run_perc)\n",
    "    return team_list\n",
    "\n",
    "\n",
    "graphs = ['runs_no_cl', 'runs_cl']\n",
    "titles = ['Run Plays as % of Total Plays, No Comfortable Lead', 'Run Plays as % of Total Plays, Comfortable Lead']\n",
    "\n",
    "for i in range(2):\n",
    "    good_teams = run_play_breakdown(good, i)\n",
    "    ok_teams = run_play_breakdown(ok, i)\n",
    "    bad_teams = run_play_breakdown(bad, i)\n",
    "\n",
    "    df = pd.DataFrame(\n",
    "        {\n",
    "            \"Season\": seasons,\n",
    "            \"Good\": good_teams,\n",
    "            \"OK\": ok_teams,\n",
    "            \"Bad\": bad_teams\n",
    "        })\n",
    "\n",
    "    fig, graphs[i] = plt.subplots(figsize=(10,5))\n",
    "    graphs[i].bar(df.Season, df.Good, width = .25, color=[0, 143/255, 213/255])\n",
    "    graphs[i].bar(df.Season + .25, df.OK, width = .25, color=[229/255, 174/255, 56/255])\n",
    "    graphs[i].bar(df.Season + .5, df.Bad, width = .25, color=[252/255, 79/255, 48/255])\n",
    "    graphs[i].legend(df[['Good', 'OK', 'Bad']], loc='upper left')\n",
    "    graphs[i].set_xticklabels(df.Season, fontsize=13, ha='left', rotation=0)\n",
    "    graphs[i].set_xticks(df.Season)\n",
    "    graphs[i].set_yticklabels(df.Bad, fontsize=13)\n",
    "    graphs[i].set_ylim(30, 80)\n",
    "    graphs[i].xaxis.grid(False)\n",
    "    graphs[i].set_xlabel('Season')\n",
    "    graphs[i].set_ylabel('% of Total Plays')\n",
    "    graphs[i].set_title(titles[i], fontsize=20)\n",
    "    graphs[i].yaxis.set_major_formatter(ticker.FormatStrFormatter('%.0f%%'))"
   ]
  },
  {
   "cell_type": "markdown",
   "metadata": {},
   "source": [
    "We can see that all teams call runs on roughly 40% of their plays when they do not have a substantial lead and run more often (about 60% of plays) when they do. Interestingly, good teams never called a higher percentage of run plays with a comfortable lead until 2018."
   ]
  },
  {
   "cell_type": "markdown",
   "metadata": {},
   "source": [
    "## Yardage"
   ]
  },
  {
   "cell_type": "code",
   "execution_count": 28,
   "metadata": {},
   "outputs": [
    {
     "data": {
      "image/png": "[encoded data removed]",
      "text/plain": [
       "<Figure size 720x360 with 1 Axes>"
      ]
     },
     "metadata": {},
     "output_type": "display_data"
    },
    {
     "data": {
      "image/png": "[encoded data removed]",
      "text/plain": [
       "<Figure size 720x360 with 1 Axes>"
      ]
     },
     "metadata": {},
     "output_type": "display_data"
    },
    {
     "data": {
      "image/png": "[encoded data removed]",
      "text/plain": [
       "<Figure size 720x360 with 1 Axes>"
      ]
     },
     "metadata": {},
     "output_type": "display_data"
    }
   ],
   "source": [
    "# Yards per drive general formula\n",
    "def yards_breakdown(df, yards, drives):\n",
    "    team_list = []\n",
    "    for season in seasons:\n",
    "        home_yards = df.loc[(df.season == season) & (df.EOG==1), 'home' + yards].sum()\n",
    "        away_yards = df.loc[(df.season == season) & (df.EOG==1), 'away' + yards].sum()\n",
    "        home_drives = df.loc[(df.season == season) & (df.EOG==1), 'home' + drives].sum()\n",
    "        away_drives = df.loc[(df.season == season) & (df.EOG==1), 'away' + drives].sum()\n",
    "        total_yards = home_yards + away_yards\n",
    "        total_drives = home_drives + away_drives\n",
    "        yards_per_drive = total_yards / total_drives\n",
    "        team_list.append(yards_per_drive)\n",
    "    return team_list\n",
    "\n",
    "\n",
    "graphs = ['yards', 'yards_nocl', 'yards_cl']\n",
    "yards = ['_yards_final', '_yards_wocl_final', '_yards_wcl_final'] \n",
    "drives = ['_drives_final', '_drives_wocl_final', '_drives_wcl_final']\n",
    "titles = ['Yards per Drive, Overall', 'Yards per Drive, No Comfortable Lead', 'Yards per Drive, Comfortable Lead']\n",
    "\n",
    "for i in range(3):\n",
    "    good_teams = yards_breakdown(good, yards[i], drives[i])\n",
    "    ok_teams = yards_breakdown(ok, yards[i], drives[i])\n",
    "    bad_teams = yards_breakdown(bad, yards[i], drives[i])\n",
    "\n",
    "    df = pd.DataFrame(\n",
    "        {\n",
    "            \"Season\": seasons,\n",
    "            \"Good\": good_teams,\n",
    "            \"OK\": ok_teams,\n",
    "            \"Bad\": bad_teams\n",
    "        })\n",
    "\n",
    "    fig, graphs[i] = plt.subplots(figsize=(10,5))\n",
    "    graphs[i].bar(df.Season, df.Good, width = .25, color=[0, 143/255, 213/255])\n",
    "    graphs[i].bar(df.Season + .25, df.OK, width = .25, color=[229/255, 174/255, 56/255])\n",
    "    graphs[i].bar(df.Season + .5, df.Bad, width = .25, color=[252/255, 79/255, 48/255])\n",
    "    graphs[i].legend(df[['Good', 'OK', 'Bad']], loc='upper left')\n",
    "    graphs[i].set_xticklabels(df.Season, fontsize=13, ha='left', rotation=0)\n",
    "    graphs[i].set_xticks(df.Season)\n",
    "    graphs[i].set_yticklabels(df.Bad, fontsize=13)\n",
    "    graphs[i].set_ylim(0, 40)\n",
    "    graphs[i].xaxis.grid(False)\n",
    "    graphs[i].set_xlabel('Season')\n",
    "    graphs[i].set_ylabel('% of Total Plays')\n",
    "    graphs[i].set_title(titles[i], fontsize=20)\n",
    "    graphs[i].yaxis.set_major_formatter(ticker.FormatStrFormatter('%.0f'))"
   ]
  },
  {
   "cell_type": "markdown",
   "metadata": {},
   "source": [
    "While there is some separation in overall yards per drive between good teams and bad teams, when a comfortable lead is established, good teams are substantially better at accumulating more yards per drive. While some long-yardage drives can actually be very brief (e.g. drives that result in quick scores on singular explosive plays), they are generally suggestive of longer time of possession. 2018's good teams are also markedly better on this metric when they have comfortable leads."
   ]
  },
  {
   "cell_type": "markdown",
   "metadata": {},
   "source": [
    "## Drives per Game"
   ]
  },
  {
   "cell_type": "code",
   "execution_count": 29,
   "metadata": {
    "scrolled": false
   },
   "outputs": [
    {
     "data": {
      "image/png": "[encoded data removed]",
      "text/plain": [
       "<Figure size 720x360 with 1 Axes>"
      ]
     },
     "metadata": {},
     "output_type": "display_data"
    }
   ],
   "source": [
    "# dpg per drive general formula\n",
    "def drives_per_game(df, drives):\n",
    "    team_list = []\n",
    "    for season in seasons:\n",
    "        home_drives = df.loc[(df.season == season) & (df.EOG==1), 'home' + drives].sum()\n",
    "        away_drives = df.loc[(df.season == season) & (df.EOG==1), 'away' + drives].sum()\n",
    "        total_games = df.loc[(df.season == season) & (df.EOG==1), 'EOG'].count()\n",
    "        total_drives = home_drives + away_drives\n",
    "        drives_per_game = total_drives / (total_games * 2)\n",
    "        team_list.append(drives_per_game)\n",
    "    return team_list\n",
    "\n",
    "good_teams_dpg = drives_per_game(good, '_drives_final')\n",
    "ok_teams_dpg = drives_per_game(ok, '_drives_final')\n",
    "bad_teams_dpg = drives_per_game(bad, '_drives_final')\n",
    "\n",
    "%matplotlib inline\n",
    "\n",
    "dpg = pd.DataFrame(\n",
    "    {   \"Season\": seasons,\n",
    "        \"Good\": good_teams_dpg,\n",
    "        \"OK\": ok_teams_dpg,\n",
    "        \"Bad\": bad_teams_dpg\n",
    "    })\n",
    "\n",
    "fig, dpg_graph = plt.subplots(figsize=(10,5))\n",
    "\n",
    "dpg_graph.bar(dpg.Season, dpg.Good, width = .25, color=[0, 143/255, 213/255])\n",
    "dpg_graph.bar(dpg.Season + .25, dpg.OK, width = .25, color=[229/255, 174/255, 56/255])\n",
    "dpg_graph.bar(dpg.Season + .5, dpg.Bad, width = .25, color=[252/255, 79/255, 48/255])\n",
    "dpg_graph.legend(dpg[['Good', 'OK', 'Bad']], loc='upper left')\n",
    "dpg_graph.set_xticklabels(dpg.Season, fontsize=12, ha='left', rotation=0)\n",
    "dpg_graph.set_xticks(dpg.Season)\n",
    "dpg_graph.set_yticklabels(dpg.Good, fontsize=12)\n",
    "dpg_graph.set_ylim(10, 13)\n",
    "dpg_graph.xaxis.grid(False)\n",
    "dpg_graph.set_xlabel('Season')\n",
    "dpg_graph.set_ylabel('Drives per Game')\n",
    "dpg_graph.set_title('Drives per Game, Overall', fontsize=20)\n",
    "dpg_graph.yaxis.set_major_formatter(ticker.FormatStrFormatter('%.1f'))"
   ]
  },
  {
   "cell_type": "markdown",
   "metadata": {},
   "source": [
    "Since 2013, all teams have been generating fewer drives per game, but 2018's elite teams truly broke away from the pack by registering only 10.5 drives per game."
   ]
  },
  {
   "cell_type": "markdown",
   "metadata": {},
   "source": [
    "## Plays per Drive"
   ]
  },
  {
   "cell_type": "code",
   "execution_count": 30,
   "metadata": {
    "scrolled": false
   },
   "outputs": [
    {
     "data": {
      "image/png": "[encoded data removed]",
      "text/plain": [
       "<Figure size 720x360 with 1 Axes>"
      ]
     },
     "metadata": {},
     "output_type": "display_data"
    },
    {
     "data": {
      "image/png": "[encoded data removed]",
      "text/plain": [
       "<Figure size 720x360 with 1 Axes>"
      ]
     },
     "metadata": {},
     "output_type": "display_data"
    },
    {
     "data": {
      "image/png": "[encoded data removed]",
      "text/plain": [
       "<Figure size 720x360 with 1 Axes>"
      ]
     },
     "metadata": {},
     "output_type": "display_data"
    }
   ],
   "source": [
    "# Plays per drive general formula\n",
    "def ppd_breakdown(df, plays, drives):\n",
    "    team_list = []\n",
    "    for season in seasons:\n",
    "        home_plays = df.loc[(df.season == season) & (df.EOG==1), 'home' + plays].sum()\n",
    "        away_plays = df.loc[(df.season == season) & (df.EOG==1), 'away' + plays].sum()\n",
    "        home_drives = df.loc[(df.season == season) & (df.EOG==1), 'home' + drives].sum()\n",
    "        away_drives = df.loc[(df.season == season) & (df.EOG==1), 'away' + drives].sum()\n",
    "        total_plays = home_plays + away_plays\n",
    "        total_drives = home_drives + away_drives\n",
    "        total_ppd = total_plays / total_drives\n",
    "        team_list.append(total_ppd)\n",
    "    return team_list\n",
    "\n",
    "%matplotlib inline\n",
    "\n",
    "\n",
    "graphs = ['ppd', 'ppd_nocl', 'ppd_cl']\n",
    "plays = ['_combined_plays_final', '_combined_plays_wocl_final', '_combined_plays_wcl_final'] \n",
    "drives = ['_drives_final', '_drives_wocl_final', '_drives_wcl_final']\n",
    "titles = ['Plays per Drive, Overall', 'Plays per Drive, No Comfortable Lead', 'Plays per Drive, Comfortable Lead']\n",
    "\n",
    "for i in range(3):\n",
    "    good_teams = ppd_breakdown(good, plays[i], drives[i])\n",
    "    ok_teams = ppd_breakdown(ok, plays[i], drives[i])\n",
    "    bad_teams = ppd_breakdown(bad, plays[i], drives[i])\n",
    "\n",
    "    df = pd.DataFrame(\n",
    "        {\n",
    "            \"Season\": seasons,\n",
    "            \"Good\": good_teams,\n",
    "            \"OK\": ok_teams,\n",
    "            \"Bad\": bad_teams\n",
    "        })\n",
    "\n",
    "    fig, graphs[i] = plt.subplots(figsize=(10,5))\n",
    "    graphs[i].bar(df.Season, df.Good, width = .25, color=[0, 143/255, 213/255])\n",
    "    graphs[i].bar(df.Season + .25, df.OK, width = .25, color=[229/255, 174/255, 56/255])\n",
    "    graphs[i].bar(df.Season + .5, df.Bad, width = .25, color=[252/255, 79/255, 48/255])\n",
    "    graphs[i].legend(df[['Good', 'OK', 'Bad']], loc='upper left')\n",
    "    graphs[i].set_xticklabels(df.Season, fontsize=13, ha='left', rotation=0)\n",
    "    graphs[i].set_xticks(df.Season)\n",
    "    graphs[i].set_yticklabels(df.Bad, fontsize=13)\n",
    "    graphs[i].set_ylim(0, 7)\n",
    "    graphs[i].xaxis.grid(False)\n",
    "    graphs[i].set_xlabel('Season')\n",
    "    graphs[i].set_ylabel('% of Total Plays')\n",
    "    graphs[i].set_title(titles[i], fontsize=20)\n",
    "    graphs[i].yaxis.set_major_formatter(ticker.FormatStrFormatter('%.0f'))"
   ]
  },
  {
   "cell_type": "markdown",
   "metadata": {},
   "source": [
    "Again, there is some separation here between good teams and bad teams, and significantly more separation when a comfortable lead is established. We can also see that OK teams in some seasons \"punch above their weight\" and hit plays per drive levels commensurate with those of good teams.\n",
    "\n",
    "For the 2018 season, good teams consistently executed 1 more play per drive than other teams when they had comfortable leads."
   ]
  },
  {
   "cell_type": "markdown",
   "metadata": {},
   "source": [
    "## TOP per Drive"
   ]
  },
  {
   "cell_type": "code",
   "execution_count": 31,
   "metadata": {},
   "outputs": [
    {
     "data": {
      "image/png": "[encoded data removed]",
      "text/plain": [
       "<Figure size 720x360 with 1 Axes>"
      ]
     },
     "metadata": {},
     "output_type": "display_data"
    },
    {
     "data": {
      "image/png": "[encoded data removed]",
      "text/plain": [
       "<Figure size 720x360 with 1 Axes>"
      ]
     },
     "metadata": {},
     "output_type": "display_data"
    },
    {
     "data": {
      "image/png": "[encoded data removed]",
      "text/plain": [
       "<Figure size 720x360 with 1 Axes>"
      ]
     },
     "metadata": {},
     "output_type": "display_data"
    }
   ],
   "source": [
    "# TOP per drive general formula\n",
    "def TOP_breakdown(df, TOP, drives):\n",
    "    team_list = []\n",
    "    for season in seasons:\n",
    "        home_TOP = df.loc[(df.season == season) & (df.EOG==1), 'home' + TOP].sum()\n",
    "        away_TOP = df.loc[(df.season == season) & (df.EOG==1), 'away' + TOP].sum()\n",
    "        home_drives = df.loc[(df.season == season) & (df.EOG==1), 'home' + drives].sum()\n",
    "        away_drives = df.loc[(df.season == season) & (df.EOG==1), 'away' + drives].sum()\n",
    "        total_TOP = home_TOP + away_TOP\n",
    "        total_drives = home_drives + away_drives\n",
    "        total_TOP_pd = total_TOP / total_drives\n",
    "        team_list.append(total_TOP_pd)\n",
    "    return team_list\n",
    "\n",
    "\n",
    "graphs = ['ppd', 'ppd_nocl', 'ppd_cl']\n",
    "TOP = ['_TOP_final', '_TOP_wocl_final', '_TOP_wcl_final'] \n",
    "drives = ['_drives_final', '_drives_wocl_final', '_drives_wcl_final']\n",
    "titles = ['Time of Possession, Overall', 'Time of Possession, No Comfortable Lead', 'Time of Possession, Comfortable Lead']\n",
    "\n",
    "for i in range(3):\n",
    "    good_teams = TOP_breakdown(good, TOP[i], drives[i])\n",
    "    ok_teams = TOP_breakdown(ok, TOP[i], drives[i])\n",
    "    bad_teams = TOP_breakdown(bad, TOP[i], drives[i])\n",
    "\n",
    "    df = pd.DataFrame(\n",
    "        {\n",
    "            \"Season\": seasons,\n",
    "            \"Good\": good_teams,\n",
    "            \"OK\": ok_teams,\n",
    "            \"Bad\": bad_teams\n",
    "        })\n",
    "\n",
    "    fig, graphs[i] = plt.subplots(figsize=(10,5))\n",
    "    graphs[i].bar(df.Season, df.Good, width = .25, color=[0, 143/255, 213/255])\n",
    "    graphs[i].bar(df.Season + .25, df.OK, width = .25, color=[229/255, 174/255, 56/255])\n",
    "    graphs[i].bar(df.Season + .5, df.Bad, width = .25, color=[252/255, 79/255, 48/255])\n",
    "    graphs[i].legend(df[['Good', 'OK', 'Bad']], loc='upper left')\n",
    "    graphs[i].set_xticklabels(df.Season, fontsize=13, ha='left', rotation=0)\n",
    "    graphs[i].set_xticks(df.Season)\n",
    "    graphs[i].set_yticklabels(df.Bad, fontsize=13)\n",
    "    graphs[i].set_ylim(60, 200)\n",
    "    graphs[i].xaxis.grid(False)\n",
    "    graphs[i].set_xlabel('Season')\n",
    "    graphs[i].set_ylabel('% of Total Plays')\n",
    "    graphs[i].set_title(titles[i], fontsize=20)\n",
    "    graphs[i].yaxis.set_major_formatter(ticker.FormatStrFormatter('%.0f'))"
   ]
  },
  {
   "cell_type": "markdown",
   "metadata": {},
   "source": [
    "This is the most on-the-nose indicator of ball control and a great suggester of offensive efficiency. Good teams overall hold onto the ball longer than bad teams by ~7 seconds per drive. When a comfortable lead is established, good teams are dramatically better at draining the clock. Bad teams surrender the ball faster and blow comfortable leads.\n",
    "\n",
    "Good teams in 2018 also pushed TOP with a comfortable lead to a new high at 180 seconds."
   ]
  },
  {
   "cell_type": "markdown",
   "metadata": {},
   "source": [
    "## Points per Drive"
   ]
  },
  {
   "cell_type": "code",
   "execution_count": 32,
   "metadata": {},
   "outputs": [
    {
     "data": {
      "image/png": "[encoded data removed]",
      "text/plain": [
       "<Figure size 720x360 with 1 Axes>"
      ]
     },
     "metadata": {},
     "output_type": "display_data"
    }
   ],
   "source": [
    "# Points per drive general formula\n",
    "def score_breakdown(df, score, drives):\n",
    "    team_list = []\n",
    "    for season in seasons:\n",
    "        home_score = df.loc[(df.season == season) & (df.EOG==1), 'home' + score].sum()\n",
    "        away_score = df.loc[(df.season == season) & (df.EOG==1), 'away' + score].sum()\n",
    "        home_drives = df.loc[(df.season == season) & (df.EOG==1), 'home' + drives].sum()\n",
    "        away_drives = df.loc[(df.season == season) & (df.EOG==1), 'away' + drives].sum()\n",
    "        total_score = home_score + away_score\n",
    "        total_drives = home_drives + away_drives\n",
    "        total_score_pd = total_score / total_drives\n",
    "        team_list.append(total_score_pd)\n",
    "    return team_list\n",
    "\n",
    "\n",
    "good_teams_score_pd = score_breakdown(good, '_score_final', '_drives_final')\n",
    "ok_teams_score_pd = score_breakdown(ok, '_score_final', '_drives_final')\n",
    "bad_teams_score_pd = score_breakdown(bad, '_score_final', '_drives_final')\n",
    "\n",
    "score = pd.DataFrame(\n",
    "    {\n",
    "        \"Season\": seasons,\n",
    "        \"Good\": good_teams_score_pd,\n",
    "        \"OK\": ok_teams_score_pd,\n",
    "        \"Bad\": bad_teams_score_pd\n",
    "    })\n",
    "\n",
    "\n",
    "fig, score_graph = plt.subplots(figsize=(10,5))\n",
    "\n",
    "score_graph.bar(score.Season, score.Good, width = .25, color=[0, 143/255, 213/255])\n",
    "score_graph.bar(score.Season + .25, score.OK, width = .25, color=[229/255, 174/255, 56/255])\n",
    "score_graph.bar(score.Season + .5, score.Bad, width = .25, color=[252/255, 79/255, 48/255])\n",
    "score_graph.legend(score[['Good', 'OK', 'Bad']], loc='upper left')\n",
    "score_graph.set_xticklabels(score.Season, fontsize=12, ha='left', rotation=0)\n",
    "score_graph.set_xticks(score.Season)\n",
    "score_graph.set_yticklabels(score.Good, fontsize=12)\n",
    "score_graph.set_ylim(1.4, 2.8)\n",
    "score_graph.xaxis.grid(False)\n",
    "score_graph.set_xlabel('Season')\n",
    "score_graph.set_ylabel('Points per Possession')\n",
    "score_graph.set_title('Points per Possession, Overall', fontsize=20)\n",
    "score_graph.yaxis.set_major_formatter(ticker.FormatStrFormatter('%.2f'))"
   ]
  },
  {
   "cell_type": "markdown",
   "metadata": {},
   "source": [
    "Naturally, one would expect a team that wins more to score more points per drive. This expectation holds true in our graph."
   ]
  },
  {
   "cell_type": "markdown",
   "metadata": {},
   "source": [
    "# CONCLUSION\n",
    "Looking at the different performance tiers of teams, there is some separation between the good and the bad teams for each offensive efficiency metric. However, in situations when a team has a comfortable lead, the good teams control the ball much more effectively. They do not blow their leads.\n",
    "\n",
    "## 'Analytics' Adoption\n",
    "Unlike the MLB and the NBA, whose teams have wholly embraced <i>advanced analytics</i> (the sports world's generally accepted term for data science), NFL teams lag behind a bit. The general consensus in sports media is that teams have used advanced analytics to drive personnel decisions (drafting players, transacting players, and allocating coaching resources), but only a few teams have utilized it to inform gameplan and play-by-play decisions. 2018 may reflect a deeper plunge into advanced analytics, with offensive efficiency metrics during comfortable leads improving very sharply for elite teams.\n",
    "\n",
    "## Other Things to Explore\n",
    "- How a team that had a comfortable lead performs after they lose it and whether that team ultimately wins. A team with a 20-point lead at the start of the 4th quarter may allow the opponent to shrink the margin to 8 points near the end of the game. But at that point, the trailing team's efforts are often \"too little, too late.\" Typically, there is insufficient time for the trailing team to win.\n",
    "- Schemes and formations, though that would require a more robust dataset."
   ]
  }
 ],
 "metadata": {
  "kernelspec": {
   "display_name": "Python 3",
   "language": "python",
   "name": "python3"
  },
  "language_info": {
   "codemirror_mode": {
    "name": "ipython",
    "version": 3
   },
   "file_extension": ".py",
   "mimetype": "text/x-python",
   "name": "python",
   "nbconvert_exporter": "python",
   "pygments_lexer": "ipython3",
   "version": "3.6.5"
  },
  "toc": {
   "base_numbering": 1,
   "nav_menu": {},
   "number_sections": true,
   "sideBar": true,
   "skip_h1_title": false,
   "title_cell": "Table of Contents",
   "title_sidebar": "Contents",
   "toc_cell": false,
   "toc_position": {
    "height": "calc(100% - 180px)",
    "left": "10px",
    "top": "150px",
    "width": "341px"
   },
   "toc_section_display": true,
   "toc_window_display": true
  }
 },
 "nbformat": 4,
 "nbformat_minor": 2
}
